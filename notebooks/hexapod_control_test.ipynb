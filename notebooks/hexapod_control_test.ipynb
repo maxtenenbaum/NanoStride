{
 "cells": [
  {
   "cell_type": "code",
   "execution_count": 57,
   "id": "7328f06c",
   "metadata": {},
   "outputs": [],
   "source": [
    "from pipython import GCSDevice"
   ]
  },
  {
   "cell_type": "code",
   "execution_count": 58,
   "id": "eb6866b9",
   "metadata": {},
   "outputs": [],
   "source": [
    "pidevice = GCSDevice(\"C-887\")"
   ]
  },
  {
   "cell_type": "code",
   "execution_count": 59,
   "id": "5cf140ff",
   "metadata": {},
   "outputs": [],
   "source": [
    "pidevice.InterfaceSetupDlg()"
   ]
  },
  {
   "cell_type": "code",
   "execution_count": 9,
   "id": "4fc3694e",
   "metadata": {},
   "outputs": [
    {
     "name": "stdout",
     "output_type": "stream",
     "text": [
      "(c)2011-2019 Physik Instrumente (PI) GmbH & Co. KG,C-887,117055149,2.7.1.4\n",
      "\n"
     ]
    }
   ],
   "source": [
    "print(pidevice.qIDN())"
   ]
  },
  {
   "cell_type": "code",
   "execution_count": 39,
   "id": "2afe6831",
   "metadata": {},
   "outputs": [
    {
     "data": {
      "text/plain": [
       "OrderedDict([('X', 0.640002711433),\n",
       "             ('Y', 3.54654329234),\n",
       "             ('Z', 2.97807375381),\n",
       "             ('U', 3.38778213746),\n",
       "             ('V', 3.47916541056),\n",
       "             ('W', 3.59172515887)])"
      ]
     },
     "execution_count": 39,
     "metadata": {},
     "output_type": "execute_result"
    }
   ],
   "source": [
    "pidevice.qPOS(['X', 'Y', 'Z', 'U', 'V', 'W'])"
   ]
  },
  {
   "cell_type": "code",
   "execution_count": 40,
   "id": "65c60375",
   "metadata": {},
   "outputs": [],
   "source": [
    "def zero_hexapod():\n",
    "    for axis in axes:\n",
    "        pidevice.MOV(axis, 0)\n",
    "\n",
    "zero_hexapod()"
   ]
  },
  {
   "cell_type": "code",
   "execution_count": 22,
   "id": "db97386c",
   "metadata": {},
   "outputs": [],
   "source": [
    "pidevice.MOV('X', 0)"
   ]
  },
  {
   "cell_type": "code",
   "execution_count": 29,
   "id": "87365265",
   "metadata": {},
   "outputs": [],
   "source": [
    "import time as time\n",
    "\n",
    "for i in range(5):\n",
    "    pidevice.MOV('Z', 5)\n",
    "    time.sleep(2)\n",
    "    pidevice.MOV('Z', 0)\n",
    "    time.sleep(2)\n"
   ]
  },
  {
   "cell_type": "code",
   "execution_count": 42,
   "id": "74248cac",
   "metadata": {},
   "outputs": [],
   "source": [
    "# Define the axes and the amplitude of the motion\n",
    "axes = ['X', 'Y', 'Z', 'U', 'V', 'W']\n",
    "amplitude = 5   # You can change this if 5 is too much or too little\n",
    "delay = 1      # Time to wait between moves\n",
    "\n",
    "# Do the dance 5 times\n",
    "for i in range(2):\n",
    "    for axis in axes:\n",
    "        pidevice.MOV(axis, amplitude)\n",
    "        time.sleep(delay)\n",
    "        pidevice.MOV(axis, 0)\n",
    "        time.sleep(delay)\n"
   ]
  },
  {
   "cell_type": "code",
   "execution_count": 55,
   "id": "9a2fb53a",
   "metadata": {},
   "outputs": [],
   "source": [
    "# Hexapod circular motion\n",
    "\n",
    "import math\n",
    "import time\n",
    "\n",
    "radius = 5         # Radius of the circle\n",
    "num_steps = 64     # Increase for smoother circle\n",
    "delay = 0.01        # Time between steps\n",
    "\n",
    "for i in range(num_steps):\n",
    "    angle = (2 * math.pi / num_steps) * i\n",
    "    x = radius * math.cos(angle)\n",
    "    y = radius * math.sin(angle)\n",
    "    pidevice.MOV(['X', 'Y'], [x, y])\n",
    "    time.sleep(delay)\n",
    "\n",
    "# Return to center\n",
    "pidevice.MOV(['X', 'Y'], [0, 0])\n"
   ]
  },
  {
   "cell_type": "code",
   "execution_count": 60,
   "id": "81a0bd39",
   "metadata": {},
   "outputs": [],
   "source": [
    "pidevice.CloseConnection()"
   ]
  },
  {
   "cell_type": "code",
   "execution_count": null,
   "id": "5d692e2c",
   "metadata": {},
   "outputs": [],
   "source": []
  }
 ],
 "metadata": {
  "kernelspec": {
   "display_name": "venv",
   "language": "python",
   "name": "python3"
  },
  "language_info": {
   "codemirror_mode": {
    "name": "ipython",
    "version": 3
   },
   "file_extension": ".py",
   "mimetype": "text/x-python",
   "name": "python",
   "nbconvert_exporter": "python",
   "pygments_lexer": "ipython3",
   "version": "3.13.5"
  }
 },
 "nbformat": 4,
 "nbformat_minor": 5
}
