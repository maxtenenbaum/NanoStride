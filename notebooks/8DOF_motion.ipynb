{
 "cells": [
  {
   "cell_type": "markdown",
   "id": "55de0be9",
   "metadata": {},
   "source": [
    "**Here I am incorporating both the ACS motion control system for the linear stages, and the PI_GSC2 control system to create an 8-axis motion control system**"
   ]
  },
  {
   "cell_type": "code",
   "execution_count": 1,
   "id": "2c8b4853",
   "metadata": {},
   "outputs": [],
   "source": [
    "import SPiiPlusPython as sp\n",
    "import pipython"
   ]
  },
  {
   "cell_type": "markdown",
   "id": "d6e8ca7c",
   "metadata": {},
   "source": [
    "#### Initialize stages and hexapod"
   ]
  },
  {
   "cell_type": "code",
   "execution_count": 46,
   "id": "979a21c8",
   "metadata": {},
   "outputs": [],
   "source": [
    "# Open COM1 and initialize linear stages\n",
    "hc = sp.OpenCommSerial(1, 115200)\n",
    "\n",
    "# Run buffer 1 at the startup level for homing\n",
    "sp.RunBuffer(hc, 1, \"STARTUP\", sp.SYNCHRONOUS, True)"
   ]
  },
  {
   "cell_type": "code",
   "execution_count": 47,
   "id": "2bbbfc0f",
   "metadata": {},
   "outputs": [],
   "source": [
    "# Open COM4 and initialize hexapod\n",
    "hexapod = pipython.GCS2Device(\"C-887\")\n",
    "hexapod.ConnectRS232(4, 115200)\n",
    "\n",
    "# Home hexapod\n",
    "axes = ['X', 'Y', 'Z', 'U', 'V', 'W']\n",
    "def zero_hexapod():\n",
    "    for axis in axes:\n",
    "        hexapod.MOV(axis, 0)\n",
    "zero_hexapod()"
   ]
  },
  {
   "cell_type": "markdown",
   "id": "104d0214",
   "metadata": {},
   "source": [
    "#### 8-axis motion and position logging"
   ]
  },
  {
   "cell_type": "markdown",
   "id": "527f8cfe",
   "metadata": {},
   "source": [
    "**The purpose of the 8-axis motion and position logging is to store the hexapod position values for specific locations along the XY area of the stages**\n",
    "\n",
    "At each XY coordinate for the stage, the Z-axis of the hexapod will be moved up until something is \"in focus\" or \"below the surface\"\n",
    "\n",
    "The adjustments that need to be made up and down for each position can correlate to tilt/tip motions throughout the stage movement to create a contour map, ensuring the top of the hexapod is flat to the objective"
   ]
  },
  {
   "cell_type": "code",
   "execution_count": 147,
   "id": "fef03f5b",
   "metadata": {},
   "outputs": [
    {
     "name": "stdout",
     "output_type": "stream",
     "text": [
      "(0.0, 0.0)\n",
      "OrderedDict({'X': 0.0, 'Y': 0.0, 'Z': 0.0, 'U': -0.0, 'V': 0.0, 'W': -0.0})\n"
     ]
    }
   ],
   "source": [
    "# Functions for getting absolute positions of stages and hexapod\n",
    "# Also works when you move it manually with the controller\n",
    "\n",
    "def getStagePos():\n",
    "    x_pos = sp.GetTargetPosition(hc, 0, sp.SYNCHRONOUS)\n",
    "    y_pos = sp.GetTargetPosition(hc, 1, sp.SYNCHRONOUS)\n",
    "    return(x_pos, y_pos)\n",
    "\n",
    "def getHexapodPos():\n",
    "    return(hexapod.qPOS(['X', 'Y', 'Z', 'U', 'V', 'W']))\n",
    "\n",
    "print(getStagePos())\n",
    "print(getHexapodPos())"
   ]
  },
  {
   "cell_type": "code",
   "execution_count": null,
   "id": "84367f27",
   "metadata": {},
   "outputs": [],
   "source": [
    "# Logic for creating a contour map\n",
    "#\n",
    "# We will start with a simple 2 point contour map along the Y-axis.\n",
    "# 1. Move to -10mm\n",
    "# 2. Adjust Z on hexapod to get into \"focus\"\n",
    "# 3. Capture position of stage and hexapod {stage: hexapod}\n",
    "# 4. Set Z to 0\n",
    "# 5. Move to +10mm\n",
    "# 6. Adjust Z on hexapod to get into \"focus\"\n",
    "# 7. Capture position of stage and hexapod\n",
    "# 8. Calculate contour map\n",
    "#\n"
   ]
  },
  {
   "cell_type": "code",
   "execution_count": 209,
   "id": "aedb0640",
   "metadata": {},
   "outputs": [],
   "source": [
    "# Contour map\n",
    "contour_map = {}"
   ]
  },
  {
   "cell_type": "code",
   "execution_count": 211,
   "id": "43f520c1",
   "metadata": {},
   "outputs": [],
   "source": [
    "# 1. Move Y-stage to -10mm\n",
    "sp.ExtToPoint(\n",
    "    hc,\n",
    "    sp.MotionFlags.ACSC_AMF_VELOCITY,\n",
    "    sp.Axis.ACSC_AXIS_1,\n",
    "    -10,\n",
    "    velocity=15,\n",
    "    endVelocity=0,\n",
    "    wait=sp.SYNCHRONOUS,\n",
    "    failure_check=True\n",
    ")"
   ]
  },
  {
   "cell_type": "code",
   "execution_count": 216,
   "id": "62ca781d",
   "metadata": {},
   "outputs": [],
   "source": [
    "# 2. Adjust Z on hexapod (simulating an extreme 3mm drop over 10mm, moving Z up by 3mm to compensate)\n",
    "hexapod.MOV('Z', 3)"
   ]
  },
  {
   "cell_type": "code",
   "execution_count": 217,
   "id": "a37207dc",
   "metadata": {},
   "outputs": [
    {
     "data": {
      "text/plain": [
       "3.00000074648"
      ]
     },
     "execution_count": 217,
     "metadata": {},
     "output_type": "execute_result"
    }
   ],
   "source": [
    "# 3. Capture positions\n",
    "contour_map[getStagePos()] = getHexapodPos()\n",
    "contour_map[(0.0, -10.0)]['Z']"
   ]
  },
  {
   "cell_type": "code",
   "execution_count": 218,
   "id": "fff65c82",
   "metadata": {},
   "outputs": [],
   "source": [
    "# 4. Set Z to zero\n",
    "hexapod.MOV('Z', 0)"
   ]
  },
  {
   "cell_type": "code",
   "execution_count": 219,
   "id": "5c0119e0",
   "metadata": {},
   "outputs": [],
   "source": [
    "# 5. Move Y-stage to +10mm\n",
    "sp.ExtToPoint(\n",
    "    hc,\n",
    "    sp.MotionFlags.ACSC_AMF_VELOCITY,\n",
    "    sp.Axis.ACSC_AXIS_1,\n",
    "    10,\n",
    "    velocity=15,\n",
    "    endVelocity=0,\n",
    "    wait=sp.SYNCHRONOUS,\n",
    "    failure_check=True\n",
    ")"
   ]
  },
  {
   "cell_type": "code",
   "execution_count": 220,
   "id": "2b955954",
   "metadata": {},
   "outputs": [],
   "source": [
    "# 6. Adjust Z on hexapod (simulating an extreme 3mm rise over 10mm, moving Z down by 3mm to compensate)\n",
    "hexapod.MOV('Z', -3)"
   ]
  },
  {
   "cell_type": "code",
   "execution_count": 221,
   "id": "4d495bd6",
   "metadata": {},
   "outputs": [
    {
     "data": {
      "text/plain": [
       "-2.99999943444"
      ]
     },
     "execution_count": 221,
     "metadata": {},
     "output_type": "execute_result"
    }
   ],
   "source": [
    "# 7. Capture position of stage and hexapod\n",
    "contour_map[getStagePos()] = getHexapodPos()\n",
    "contour_map[(0.0, 10.0)]['Z']"
   ]
  },
  {
   "cell_type": "code",
   "execution_count": 223,
   "id": "913dcfe9",
   "metadata": {},
   "outputs": [
    {
     "name": "stdout",
     "output_type": "stream",
     "text": [
      "Y= -10.0: Z adjustment = -3.000001\n",
      "Y=  -9.9: Z adjustment = -2.970001\n",
      "Y=  -9.8: Z adjustment = -2.940001\n",
      "Y=  -9.7: Z adjustment = -2.910001\n",
      "Y=  -9.6: Z adjustment = -2.880001\n",
      "Y=  -9.5: Z adjustment = -2.850001\n",
      "Y=  -9.4: Z adjustment = -2.820001\n",
      "Y=  -9.3: Z adjustment = -2.790001\n",
      "Y=  -9.2: Z adjustment = -2.760001\n",
      "Y=  -9.1: Z adjustment = -2.730001\n",
      "Y=  -9.0: Z adjustment = -2.700001\n",
      "Y=  -8.9: Z adjustment = -2.670001\n",
      "Y=  -8.8: Z adjustment = -2.640001\n",
      "Y=  -8.7: Z adjustment = -2.610001\n",
      "Y=  -8.6: Z adjustment = -2.580001\n",
      "Y=  -8.5: Z adjustment = -2.550001\n",
      "Y=  -8.4: Z adjustment = -2.520001\n",
      "Y=  -8.3: Z adjustment = -2.490001\n",
      "Y=  -8.2: Z adjustment = -2.460001\n",
      "Y=  -8.1: Z adjustment = -2.430001\n",
      "Y=  -8.0: Z adjustment = -2.400001\n",
      "Y=  -7.9: Z adjustment = -2.370001\n",
      "Y=  -7.8: Z adjustment = -2.340001\n",
      "Y=  -7.7: Z adjustment = -2.310001\n",
      "Y=  -7.6: Z adjustment = -2.280001\n",
      "Y=  -7.5: Z adjustment = -2.250001\n",
      "Y=  -7.4: Z adjustment = -2.220001\n",
      "Y=  -7.3: Z adjustment = -2.190001\n",
      "Y=  -7.2: Z adjustment = -2.160001\n",
      "Y=  -7.1: Z adjustment = -2.130001\n",
      "Y=  -7.0: Z adjustment = -2.100001\n",
      "Y=  -6.9: Z adjustment = -2.070001\n",
      "Y=  -6.8: Z adjustment = -2.040001\n",
      "Y=  -6.7: Z adjustment = -2.010001\n",
      "Y=  -6.6: Z adjustment = -1.980001\n",
      "Y=  -6.5: Z adjustment = -1.950001\n",
      "Y=  -6.4: Z adjustment = -1.920001\n",
      "Y=  -6.3: Z adjustment = -1.890001\n",
      "Y=  -6.2: Z adjustment = -1.860001\n",
      "Y=  -6.1: Z adjustment = -1.830001\n",
      "Y=  -6.0: Z adjustment = -1.800001\n",
      "Y=  -5.9: Z adjustment = -1.770001\n",
      "Y=  -5.8: Z adjustment = -1.740001\n",
      "Y=  -5.7: Z adjustment = -1.710001\n",
      "Y=  -5.6: Z adjustment = -1.680001\n",
      "Y=  -5.5: Z adjustment = -1.650001\n",
      "Y=  -5.4: Z adjustment = -1.620001\n",
      "Y=  -5.3: Z adjustment = -1.590001\n",
      "Y=  -5.2: Z adjustment = -1.560001\n",
      "Y=  -5.1: Z adjustment = -1.530001\n",
      "Y=  -5.0: Z adjustment = -1.500001\n",
      "Y=  -4.9: Z adjustment = -1.470001\n",
      "Y=  -4.8: Z adjustment = -1.440001\n",
      "Y=  -4.7: Z adjustment = -1.410001\n",
      "Y=  -4.6: Z adjustment = -1.380001\n",
      "Y=  -4.5: Z adjustment = -1.350001\n",
      "Y=  -4.4: Z adjustment = -1.320001\n",
      "Y=  -4.3: Z adjustment = -1.290001\n",
      "Y=  -4.2: Z adjustment = -1.260001\n",
      "Y=  -4.1: Z adjustment = -1.230001\n",
      "Y=  -4.0: Z adjustment = -1.200001\n",
      "Y=  -3.9: Z adjustment = -1.170001\n",
      "Y=  -3.8: Z adjustment = -1.140001\n",
      "Y=  -3.7: Z adjustment = -1.110001\n",
      "Y=  -3.6: Z adjustment = -1.080001\n",
      "Y=  -3.5: Z adjustment = -1.050001\n",
      "Y=  -3.4: Z adjustment = -1.020001\n",
      "Y=  -3.3: Z adjustment = -0.990001\n",
      "Y=  -3.2: Z adjustment = -0.960001\n",
      "Y=  -3.1: Z adjustment = -0.930001\n",
      "Y=  -3.0: Z adjustment = -0.900001\n",
      "Y=  -2.9: Z adjustment = -0.870001\n",
      "Y=  -2.8: Z adjustment = -0.840001\n",
      "Y=  -2.7: Z adjustment = -0.810001\n",
      "Y=  -2.6: Z adjustment = -0.780001\n",
      "Y=  -2.5: Z adjustment = -0.750001\n",
      "Y=  -2.4: Z adjustment = -0.720001\n",
      "Y=  -2.3: Z adjustment = -0.690001\n",
      "Y=  -2.2: Z adjustment = -0.660001\n",
      "Y=  -2.1: Z adjustment = -0.630001\n",
      "Y=  -2.0: Z adjustment = -0.600001\n",
      "Y=  -1.9: Z adjustment = -0.570001\n",
      "Y=  -1.8: Z adjustment = -0.540001\n",
      "Y=  -1.7: Z adjustment = -0.510001\n",
      "Y=  -1.6: Z adjustment = -0.480001\n",
      "Y=  -1.5: Z adjustment = -0.450001\n",
      "Y=  -1.4: Z adjustment = -0.420001\n",
      "Y=  -1.3: Z adjustment = -0.390001\n",
      "Y=  -1.2: Z adjustment = -0.360001\n",
      "Y=  -1.1: Z adjustment = -0.330001\n",
      "Y=  -1.0: Z adjustment = -0.300001\n",
      "Y=  -0.9: Z adjustment = -0.270001\n",
      "Y=  -0.8: Z adjustment = -0.240001\n",
      "Y=  -0.7: Z adjustment = -0.210001\n",
      "Y=  -0.6: Z adjustment = -0.180001\n",
      "Y=  -0.5: Z adjustment = -0.150001\n",
      "Y=  -0.4: Z adjustment = -0.120001\n",
      "Y=  -0.3: Z adjustment = -0.090001\n",
      "Y=  -0.2: Z adjustment = -0.060001\n",
      "Y=  -0.1: Z adjustment = -0.030001\n",
      "Y=  -0.0: Z adjustment = -0.000001\n",
      "Y=   0.1: Z adjustment = 0.029999\n",
      "Y=   0.2: Z adjustment = 0.059999\n",
      "Y=   0.3: Z adjustment = 0.089999\n",
      "Y=   0.4: Z adjustment = 0.119999\n",
      "Y=   0.5: Z adjustment = 0.149999\n",
      "Y=   0.6: Z adjustment = 0.179999\n",
      "Y=   0.7: Z adjustment = 0.209999\n",
      "Y=   0.8: Z adjustment = 0.239999\n",
      "Y=   0.9: Z adjustment = 0.269999\n",
      "Y=   1.0: Z adjustment = 0.299999\n",
      "Y=   1.1: Z adjustment = 0.329999\n",
      "Y=   1.2: Z adjustment = 0.359999\n",
      "Y=   1.3: Z adjustment = 0.389999\n",
      "Y=   1.4: Z adjustment = 0.419999\n",
      "Y=   1.5: Z adjustment = 0.449999\n",
      "Y=   1.6: Z adjustment = 0.479999\n",
      "Y=   1.7: Z adjustment = 0.509999\n",
      "Y=   1.8: Z adjustment = 0.539999\n",
      "Y=   1.9: Z adjustment = 0.569999\n",
      "Y=   2.0: Z adjustment = 0.599999\n",
      "Y=   2.1: Z adjustment = 0.629999\n",
      "Y=   2.2: Z adjustment = 0.659999\n",
      "Y=   2.3: Z adjustment = 0.689999\n",
      "Y=   2.4: Z adjustment = 0.719999\n",
      "Y=   2.5: Z adjustment = 0.749999\n",
      "Y=   2.6: Z adjustment = 0.779999\n",
      "Y=   2.7: Z adjustment = 0.809999\n",
      "Y=   2.8: Z adjustment = 0.839999\n",
      "Y=   2.9: Z adjustment = 0.869999\n",
      "Y=   3.0: Z adjustment = 0.899999\n",
      "Y=   3.1: Z adjustment = 0.929999\n",
      "Y=   3.2: Z adjustment = 0.959999\n",
      "Y=   3.3: Z adjustment = 0.989999\n",
      "Y=   3.4: Z adjustment = 1.019999\n",
      "Y=   3.5: Z adjustment = 1.049999\n",
      "Y=   3.6: Z adjustment = 1.079999\n",
      "Y=   3.7: Z adjustment = 1.109999\n",
      "Y=   3.8: Z adjustment = 1.139999\n",
      "Y=   3.9: Z adjustment = 1.169999\n",
      "Y=   4.0: Z adjustment = 1.199999\n",
      "Y=   4.1: Z adjustment = 1.229999\n",
      "Y=   4.2: Z adjustment = 1.259999\n",
      "Y=   4.3: Z adjustment = 1.289999\n",
      "Y=   4.4: Z adjustment = 1.319999\n",
      "Y=   4.5: Z adjustment = 1.349999\n",
      "Y=   4.6: Z adjustment = 1.379999\n",
      "Y=   4.7: Z adjustment = 1.409999\n",
      "Y=   4.8: Z adjustment = 1.439999\n",
      "Y=   4.9: Z adjustment = 1.469999\n",
      "Y=   5.0: Z adjustment = 1.499999\n",
      "Y=   5.1: Z adjustment = 1.529999\n",
      "Y=   5.2: Z adjustment = 1.559999\n",
      "Y=   5.3: Z adjustment = 1.589999\n",
      "Y=   5.4: Z adjustment = 1.619999\n",
      "Y=   5.5: Z adjustment = 1.649999\n",
      "Y=   5.6: Z adjustment = 1.679999\n",
      "Y=   5.7: Z adjustment = 1.709999\n",
      "Y=   5.8: Z adjustment = 1.739999\n",
      "Y=   5.9: Z adjustment = 1.769999\n",
      "Y=   6.0: Z adjustment = 1.799999\n",
      "Y=   6.1: Z adjustment = 1.829999\n",
      "Y=   6.2: Z adjustment = 1.859999\n",
      "Y=   6.3: Z adjustment = 1.889999\n",
      "Y=   6.4: Z adjustment = 1.919999\n",
      "Y=   6.5: Z adjustment = 1.949999\n",
      "Y=   6.6: Z adjustment = 1.979999\n",
      "Y=   6.7: Z adjustment = 2.009999\n",
      "Y=   6.8: Z adjustment = 2.039999\n",
      "Y=   6.9: Z adjustment = 2.069999\n",
      "Y=   7.0: Z adjustment = 2.099999\n",
      "Y=   7.1: Z adjustment = 2.129999\n",
      "Y=   7.2: Z adjustment = 2.159999\n",
      "Y=   7.3: Z adjustment = 2.189999\n",
      "Y=   7.4: Z adjustment = 2.219999\n",
      "Y=   7.5: Z adjustment = 2.249999\n",
      "Y=   7.6: Z adjustment = 2.279999\n",
      "Y=   7.7: Z adjustment = 2.309999\n",
      "Y=   7.8: Z adjustment = 2.339999\n",
      "Y=   7.9: Z adjustment = 2.369999\n",
      "Y=   8.0: Z adjustment = 2.399999\n",
      "Y=   8.1: Z adjustment = 2.429999\n",
      "Y=   8.2: Z adjustment = 2.459999\n",
      "Y=   8.3: Z adjustment = 2.489999\n",
      "Y=   8.4: Z adjustment = 2.519999\n",
      "Y=   8.5: Z adjustment = 2.549999\n",
      "Y=   8.6: Z adjustment = 2.579999\n",
      "Y=   8.7: Z adjustment = 2.609999\n",
      "Y=   8.8: Z adjustment = 2.639999\n",
      "Y=   8.9: Z adjustment = 2.669999\n",
      "Y=   9.0: Z adjustment = 2.699999\n",
      "Y=   9.1: Z adjustment = 2.729999\n",
      "Y=   9.2: Z adjustment = 2.759999\n",
      "Y=   9.3: Z adjustment = 2.789999\n",
      "Y=   9.4: Z adjustment = 2.819999\n",
      "Y=   9.5: Z adjustment = 2.849999\n",
      "Y=   9.6: Z adjustment = 2.879999\n",
      "Y=   9.7: Z adjustment = 2.909999\n",
      "Y=   9.8: Z adjustment = 2.939999\n",
      "Y=   9.9: Z adjustment = 2.969999\n",
      "Y=  10.0: Z adjustment = 2.999999\n"
     ]
    }
   ],
   "source": [
    "# 8. Calculate contour map (For Z and Y right now)\n",
    "import numpy as np\n",
    "from collections import OrderedDict\n",
    "\n",
    "data=contour_map\n",
    "\n",
    "# Step 1: Extract Y and Z\n",
    "points = sorted(data.items(), key=lambda kv: kv[0][1])  # sort by Y\n",
    "y_vals = np.array([key[1] for key, _ in points])\n",
    "z_vals = np.array([val['Z'] for _, val in points])\n",
    "\n",
    "# Step 2: Fit a line Z = aY + b\n",
    "a, b = np.polyfit(y_vals, z_vals, 1)\n",
    "\n",
    "# Step 3: Define compensation function\n",
    "def z_adjustment(y):\n",
    "    return -(a * y + b)  # This adjustment brings the surface to Z=0\n",
    "\n",
    "# Calculate the adjustments to be made\n",
    "for y in np.arange(-10, 10.1, 0.1):\n",
    "    print(f\"Y={y:>6.1f}: Z adjustment = {z_adjustment(y):.6f}\")\n"
   ]
  },
  {
   "cell_type": "code",
   "execution_count": 238,
   "id": "06102509",
   "metadata": {},
   "outputs": [
    {
     "data": {
      "image/png": "[encoded data removed]",
      "text/plain": [
       "<Figure size 1500x800 with 6 Axes>"
      ]
     },
     "metadata": {},
     "output_type": "display_data"
    }
   ],
   "source": [
    "data = contour_map\n",
    "\n",
    "# Extract coordinate ranges\n",
    "x_coords = sorted(set(k[0] for k in data))\n",
    "y_coords = sorted(set(k[1] for k in data))\n",
    "\n",
    "# Create grids for each axis\n",
    "axis_grids = {axis: np.full((len(y_coords), len(x_coords)), np.nan) for axis in axes}\n",
    "for (x, y), pos in data.items():\n",
    "    i = y_coords.index(y)\n",
    "    j = x_coords.index(x)\n",
    "    for axis in axes:\n",
    "        axis_grids[axis][i, j] = pos[axis]\n",
    "\n",
    "# Get global y-axis min and max across all axes\n",
    "global_ymin = min(np.nanmin(axis_grids[axis][:, 0]) for axis in axes) - 1\n",
    "global_ymax = max(np.nanmax(axis_grids[axis][:, 0]) for axis in axes) + 1\n",
    "\n",
    "# Create line plots with uniform y-axis scaling\n",
    "fig, axs = plt.subplots(2, 3, figsize=(15, 8))\n",
    "axs = axs.flatten()\n",
    "\n",
    "y_vals = np.array(y_coords)\n",
    "\n",
    "for i, axis in enumerate(axes):\n",
    "    axis_vals = axis_grids[axis][:, 0]  # Values at X=0\n",
    "    axs[i].plot(y_vals, axis_vals, marker='o')\n",
    "    axs[i].set_title(f'Axis {axis}')\n",
    "    axs[i].set_xlabel('Y')\n",
    "    axs[i].set_ylabel(f'{axis} Value')\n",
    "    axs[i].set_ylim(global_ymin, global_ymax)\n",
    "    axs[i].grid(True)\n",
    "\n",
    "plt.tight_layout(rect=[0, 0, 1, 0.95])\n",
    "plt.show()\n"
   ]
  },
  {
   "cell_type": "markdown",
   "id": "1b7235b6",
   "metadata": {},
   "source": [
    "#### Shut down stages and hexapod"
   ]
  },
  {
   "cell_type": "code",
   "execution_count": 235,
   "id": "31936130",
   "metadata": {},
   "outputs": [],
   "source": [
    "# Disable all motors and terminate linear stage connection\n",
    "sp.DisableAll(hc, sp.SYNCHRONOUS, True)\n",
    "sp.CloseComm(hc)"
   ]
  },
  {
   "cell_type": "code",
   "execution_count": 236,
   "id": "4a50686e",
   "metadata": {},
   "outputs": [],
   "source": [
    "# Close connection with hexapod controller\n",
    "hexapod.CloseConnection()"
   ]
  },
  {
   "cell_type": "code",
   "execution_count": null,
   "id": "a475da90",
   "metadata": {},
   "outputs": [],
   "source": [
    "#\n",
    "# We can now create a contour map showing the required adjusted Z values for a simulated change in Y with deviations in Z. \n",
    "# \n",
    "# Point to point movements don't seem to work very well for smooth operation where the hexapod and stage are moving at \n",
    "# the same time. \n",
    "# \n",
    "# It's probably best to set velocities and durations:\n",
    "# Stages: sp.MotionFlags.ACSC_AMF_VELOCITY\n",
    "# Hexapod: BOOL PI_VLS (int ID, double dSystemVelocity) (DOESNT WORK YET, NEED TO FIGURE THAT OUT)\n",
    "# \n",
    "# Then we can trigger them both at the same time and have them move at proportional rates, nice and smooth.\n",
    "# This same functionality will loop in with the AWG for printing.\n",
    "#\n",
    "# TO DO: \n",
    "# 1. Figure out how to change hexapod velocities\n",
    "# 2. Test it by having the hexapod and stage move in opposite directions (+y, -y) while it holds a laser pointer, \n",
    "#    See if the laser pointer moves. Ideally it should stay in the same spot. If not, it can give some insights \n",
    "#    into better control mechanisms.\n",
    "#"
   ]
  }
 ],
 "metadata": {
  "kernelspec": {
   "display_name": "venv",
   "language": "python",
   "name": "python3"
  },
  "language_info": {
   "codemirror_mode": {
    "name": "ipython",
    "version": 3
   },
   "file_extension": ".py",
   "mimetype": "text/x-python",
   "name": "python",
   "nbconvert_exporter": "python",
   "pygments_lexer": "ipython3",
   "version": "3.13.5"
  }
 },
 "nbformat": 4,
 "nbformat_minor": 5
}
