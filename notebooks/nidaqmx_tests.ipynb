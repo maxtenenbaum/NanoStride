{
 "cells": [
  {
   "cell_type": "code",
   "execution_count": 1,
   "id": "4385ad5a",
   "metadata": {},
   "outputs": [],
   "source": [
    "import nidaqmx"
   ]
  },
  {
   "cell_type": "code",
   "execution_count": 2,
   "id": "1a3d518d",
   "metadata": {},
   "outputs": [],
   "source": [
    "# Initializing nidaqmx system\n",
    "system = nidaqmx.system.System.local()"
   ]
  },
  {
   "cell_type": "code",
   "execution_count": 3,
   "id": "04766c4b",
   "metadata": {},
   "outputs": [
    {
     "name": "stdout",
     "output_type": "stream",
     "text": [
      "PXIe-6341 PXI1Slot2 27399843\n",
      "PXIe-6341 PXI1Slot4 28232070\n",
      "PXIe-6341 PXI1Slot5 28232039\n",
      "PXIe-6356 PXI1Slot6 29190299\n"
     ]
    }
   ],
   "source": [
    "# Printing out cards in chassis\n",
    "for device in system.devices:\n",
    "    print(device.product_type, device.name, device.serial_num)"
   ]
  },
  {
   "cell_type": "code",
   "execution_count": 4,
   "id": "96bfb281",
   "metadata": {},
   "outputs": [
    {
     "name": "stdout",
     "output_type": "stream",
     "text": [
      "Device(name=PXI1Slot2) 1000000.0\n",
      "Device(name=PXI1Slot4) 1000000.0\n",
      "Device(name=PXI1Slot5) 1000000.0\n",
      "Device(name=PXI1Slot6) 10000000.0\n"
     ]
    }
   ],
   "source": [
    "for device in system.devices:\n",
    "    print(device, device.do_max_rate)"
   ]
  },
  {
   "cell_type": "code",
   "execution_count": 5,
   "id": "90daf4bf",
   "metadata": {},
   "outputs": [],
   "source": [
    "# Streaming variable setup\n",
    "\n",
    "from random import sample\n",
    "from nidaqmx.constants import AcquisitionType, RegenerationMode\n",
    "import numpy as np\n",
    "import threading\n",
    "import time\n",
    "\n",
    "device = 'PXI1Slot6'\n",
    "ao_channel = \"ao1\"\n",
    "sample_rate = 1e6\n",
    "buffer_seconds = 5\n",
    "num_channels = 1\n",
    "buffer_size = int(sample_rate * buffer_seconds)\n",
    "half_buffer = buffer_size//2"
   ]
  },
  {
   "cell_type": "code",
   "execution_count": 6,
   "id": "5720b5f4",
   "metadata": {},
   "outputs": [],
   "source": [
    "# Waveform generation\n",
    "def generate_waveform(start_idx, length):\n",
    "    t = np.arange(start_idx, start_idx+length) / sample_rate\n",
    "    return 1 * np.sign(np.sin(2 * np.pi * 10_000 * t))\n",
    "\n",
    "def streaming_task(task, stop_event):\n",
    "    next_idx = half_buffer\n",
    "    while not stop_event.is_set():\n",
    "        time.sleep(buffer_seconds/2)\n",
    "        data = generate_waveform(next_idx, half_buffer)\n",
    "        task.write(data, auto_start=False)\n",
    "        next_idx += half_buffer"
   ]
  },
  {
   "cell_type": "code",
   "execution_count": 7,
   "id": "0edd4cab",
   "metadata": {},
   "outputs": [
    {
     "name": "stdout",
     "output_type": "stream",
     "text": [
      "Streaming\n",
      "Stopping\n"
     ]
    }
   ],
   "source": [
    "# Streaming a sine wave\n",
    "with nidaqmx.Task() as ao_task:\n",
    "    ao_task.ao_channels.add_ao_voltage_chan(f\"{device}/{ao_channel}\")\n",
    "\n",
    "    ao_task.timing.cfg_samp_clk_timing(\n",
    "        rate = sample_rate,\n",
    "        sample_mode = AcquisitionType.CONTINUOUS,\n",
    "        samps_per_chan=buffer_size\n",
    "    )\n",
    "\n",
    "    ao_task.out_stream.regen_mode = RegenerationMode.DONT_ALLOW_REGENERATION\n",
    "    ao_task.out_stream.output_buf_size = buffer_size\n",
    "\n",
    "    initial_data = generate_waveform(0, buffer_size)\n",
    "    ao_task.write(initial_data)\n",
    "\n",
    "    ao_task.start()\n",
    "\n",
    "    stop_event = threading.Event()\n",
    "    stream_thread = threading.Thread(target=streaming_task, args=(ao_task, stop_event))\n",
    "    stream_thread.start()\n",
    "\n",
    "    try:\n",
    "        print('Streaming')\n",
    "        while True:\n",
    "            time.sleep(1)\n",
    "    except KeyboardInterrupt:\n",
    "        print(\"Stopping\")\n",
    "        stop_event.set()\n",
    "        stream_thread.join()\n",
    "    finally:\n",
    "        ao_task.stop()\n"
   ]
  },
  {
   "cell_type": "code",
   "execution_count": null,
   "id": "84a6c69b",
   "metadata": {},
   "outputs": [],
   "source": [
    "# Turning mirror on and off\n",
    "device = 'PXI1Slot2'\n",
    "ao_channel = \"ao1\"\n",
    "with nidaqmx.Task() as ao_task:\n",
    "    ao_task.ao_channels.add_ao_voltage_chan(f\"{device}/{ao_channel}\")\n",
    "    ao_task.write(4.0)\n",
    "    ao_task.start()\n",
    "    time.sleep(5.0)\n",
    "    ao_task.write(0)\n",
    "    ao_task.stop()"
   ]
  },
  {
   "cell_type": "markdown",
   "id": "cc12ad3c",
   "metadata": {},
   "source": [
    "Below is a successful implementation of waveform triggering at ~1MHz"
   ]
  },
  {
   "cell_type": "code",
   "execution_count": 8,
   "id": "03565604",
   "metadata": {},
   "outputs": [
    {
     "name": "stdout",
     "output_type": "stream",
     "text": [
      "Waiting for trigger on /PXI1Slot2/PFI0 to output waveform...\n"
     ]
    },
    {
     "ename": "KeyboardInterrupt",
     "evalue": "",
     "output_type": "error",
     "traceback": [
      "\u001b[31m---------------------------------------------------------------------------\u001b[39m",
      "\u001b[31mKeyboardInterrupt\u001b[39m                         Traceback (most recent call last)",
      "\u001b[36mCell\u001b[39m\u001b[36m \u001b[39m\u001b[32mIn[8]\u001b[39m\u001b[32m, line 32\u001b[39m\n\u001b[32m     30\u001b[39m \u001b[38;5;28mprint\u001b[39m(\u001b[33mf\u001b[39m\u001b[33m\"\u001b[39m\u001b[33mWaiting for trigger on \u001b[39m\u001b[38;5;132;01m{\u001b[39;00mtrigger_source\u001b[38;5;132;01m}\u001b[39;00m\u001b[33m to output waveform...\u001b[39m\u001b[33m\"\u001b[39m)\n\u001b[32m     31\u001b[39m ao_task.start()\n\u001b[32m---> \u001b[39m\u001b[32m32\u001b[39m \u001b[43mao_task\u001b[49m\u001b[43m.\u001b[49m\u001b[43mwait_until_done\u001b[49m\u001b[43m(\u001b[49m\u001b[43mtimeout\u001b[49m\u001b[43m=\u001b[49m\u001b[32;43m10.0\u001b[39;49m\u001b[43m)\u001b[49m\n\u001b[32m     33\u001b[39m \u001b[38;5;28mprint\u001b[39m(\u001b[33m\"\u001b[39m\u001b[33mWaveform output complete.\u001b[39m\u001b[33m\"\u001b[39m)\n\u001b[32m     34\u001b[39m ao_task.stop()\n",
      "\u001b[36mFile \u001b[39m\u001b[32mc:\\Users\\Gardner Lab\\Desktop\\NanoStride\\venv\\Lib\\site-packages\\nidaqmx\\task\\_task.py:1065\u001b[39m, in \u001b[36mTask.wait_until_done\u001b[39m\u001b[34m(self, timeout)\u001b[39m\n\u001b[32m   1049\u001b[39m \u001b[38;5;28;01mdef\u001b[39;00m\u001b[38;5;250m \u001b[39m\u001b[34mwait_until_done\u001b[39m(\u001b[38;5;28mself\u001b[39m, timeout=\u001b[32m10.0\u001b[39m):\n\u001b[32m   1050\u001b[39m \u001b[38;5;250m    \u001b[39m\u001b[33;03m\"\"\"\u001b[39;00m\n\u001b[32m   1051\u001b[39m \u001b[33;03m    Waits for the measurement or generation to complete.\u001b[39;00m\n\u001b[32m   1052\u001b[39m \n\u001b[32m   (...)\u001b[39m\u001b[32m   1063\u001b[39m \u001b[33;03m            an error if the measurement or generation is not done.\u001b[39;00m\n\u001b[32m   1064\u001b[39m \u001b[33;03m    \"\"\"\u001b[39;00m\n\u001b[32m-> \u001b[39m\u001b[32m1065\u001b[39m     \u001b[38;5;28;43mself\u001b[39;49m\u001b[43m.\u001b[49m\u001b[43m_interpreter\u001b[49m\u001b[43m.\u001b[49m\u001b[43mwait_until_task_done\u001b[49m\u001b[43m(\u001b[49m\u001b[38;5;28;43mself\u001b[39;49m\u001b[43m.\u001b[49m\u001b[43m_handle\u001b[49m\u001b[43m,\u001b[49m\u001b[43m \u001b[49m\u001b[43mtimeout\u001b[49m\u001b[43m)\u001b[49m\n",
      "\u001b[36mFile \u001b[39m\u001b[32mc:\\Users\\Gardner Lab\\Desktop\\NanoStride\\venv\\Lib\\site-packages\\nidaqmx\\_library_interpreter.py:5912\u001b[39m, in \u001b[36mLibraryInterpreter.wait_until_task_done\u001b[39m\u001b[34m(self, task, time_to_wait)\u001b[39m\n\u001b[32m   5908\u001b[39m         \u001b[38;5;28;01mif\u001b[39;00m cfunc.argtypes \u001b[38;5;129;01mis\u001b[39;00m \u001b[38;5;28;01mNone\u001b[39;00m:\n\u001b[32m   5909\u001b[39m             cfunc.argtypes = [\n\u001b[32m   5910\u001b[39m                 lib_importer.task_handle, ctypes.c_double]\n\u001b[32m-> \u001b[39m\u001b[32m5912\u001b[39m error_code = \u001b[43mcfunc\u001b[49m\u001b[43m(\u001b[49m\n\u001b[32m   5913\u001b[39m \u001b[43m    \u001b[49m\u001b[43mtask\u001b[49m\u001b[43m,\u001b[49m\u001b[43m \u001b[49m\u001b[43mtime_to_wait\u001b[49m\u001b[43m)\u001b[49m\n\u001b[32m   5914\u001b[39m \u001b[38;5;28mself\u001b[39m.check_for_error(error_code)\n",
      "\u001b[31mKeyboardInterrupt\u001b[39m: "
     ]
    }
   ],
   "source": [
    "import numpy as np\n",
    "import nidaqmx\n",
    "from nidaqmx.constants import AcquisitionType, Edge\n",
    "\n",
    "fs = 2_000_000  # 1 MS/s\n",
    "cycles = 63\n",
    "samples_per_cycle = 2\n",
    "num_samples = cycles * samples_per_cycle\n",
    "waveform = np.tile([1.0, 0.0], cycles)\n",
    "\n",
    "\n",
    "with nidaqmx.Task() as ao_task:\n",
    "    ao_task.ao_channels.add_ao_voltage_chan(\"PXI1Slot6/ao1\")\n",
    "    ao_task.timing.cfg_samp_clk_timing(\n",
    "        rate=fs,\n",
    "        sample_mode=AcquisitionType.FINITE,\n",
    "        samps_per_chan=num_samples\n",
    "    )\n",
    "\n",
    "    trigger_source = '/PXI1Slot2/PFI0' \n",
    "                                      \n",
    "    ao_task.triggers.start_trigger.cfg_dig_edge_start_trig(\n",
    "        trigger_source=trigger_source,\n",
    "        trigger_edge=Edge.FALLING\n",
    "    )\n",
    "\n",
    "    ao_task.triggers.start_trigger.retriggerable = True\n",
    "\n",
    "    ao_task.write(waveform)\n",
    "    print(f\"Waiting for trigger on {trigger_source} to output waveform...\")\n",
    "    ao_task.start()\n",
    "    ao_task.wait_until_done(timeout=10.0)\n",
    "    print(\"Waveform output complete.\")\n",
    "    ao_task.stop()"
   ]
  },
  {
   "cell_type": "markdown",
   "id": "f11b7d7b",
   "metadata": {},
   "source": [
    "Need to try streaming data in and using this trigger to know when to get the next sample"
   ]
  },
  {
   "cell_type": "code",
   "execution_count": null,
   "id": "9fb3944c",
   "metadata": {},
   "outputs": [],
   "source": []
  }
 ],
 "metadata": {
  "kernelspec": {
   "display_name": "venv",
   "language": "python",
   "name": "python3"
  },
  "language_info": {
   "codemirror_mode": {
    "name": "ipython",
    "version": 3
   },
   "file_extension": ".py",
   "mimetype": "text/x-python",
   "name": "python",
   "nbconvert_exporter": "python",
   "pygments_lexer": "ipython3",
   "version": "3.13.5"
  }
 },
 "nbformat": 4,
 "nbformat_minor": 5
}
