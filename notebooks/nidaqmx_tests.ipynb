{
 "cells": [
  {
   "cell_type": "code",
   "execution_count": 3,
   "id": "4385ad5a",
   "metadata": {},
   "outputs": [],
   "source": [
    "import nidaqmx"
   ]
  },
  {
   "cell_type": "code",
   "execution_count": 4,
   "id": "1a3d518d",
   "metadata": {},
   "outputs": [],
   "source": [
    "# Initializing nidaqmx system\n",
    "system = nidaqmx.system.System.local()"
   ]
  },
  {
   "cell_type": "code",
   "execution_count": 5,
   "id": "04766c4b",
   "metadata": {},
   "outputs": [
    {
     "name": "stdout",
     "output_type": "stream",
     "text": [
      "PXIe-6341 PXI1Slot2 27490011\n"
     ]
    }
   ],
   "source": [
    "# Printing out cards in chassis\n",
    "for device in system.devices:\n",
    "    print(device.product_type, device.name, device.serial_num)"
   ]
  },
  {
   "cell_type": "code",
   "execution_count": 6,
   "id": "96bfb281",
   "metadata": {},
   "outputs": [
    {
     "name": "stdout",
     "output_type": "stream",
     "text": [
      "Device(name=PXI1Slot2) 1000000.0\n"
     ]
    }
   ],
   "source": [
    "for device in system.devices:\n",
    "    print(device, device.do_max_rate)"
   ]
  },
  {
   "cell_type": "code",
   "execution_count": 8,
   "id": "1a5e2c69",
   "metadata": {},
   "outputs": [],
   "source": [
    "import time\n",
    "device = 'PXI1Slot2'\n",
    "ao_channel = \"ao1\"\n",
    "with nidaqmx.Task() as ao_task:\n",
    "    ao_task.ao_channels.add_ao_voltage_chan(f\"{device}/{ao_channel}\")\n",
    "    ao_task.write(5.0)\n",
    "    ao_task.start()\n",
    "    ao_task.stop()\n",
    "\n",
    "time.sleep(5)\n",
    "\n",
    "with nidaqmx.Task() as ao_task:\n",
    "    ao_task.ao_channels.add_ao_voltage_chan(f\"{device}/{ao_channel}\")\n",
    "    ao_task.write(0)\n",
    "    ao_task.stop()"
   ]
  },
  {
   "cell_type": "code",
   "execution_count": 59,
   "id": "90daf4bf",
   "metadata": {},
   "outputs": [],
   "source": [
    "# Streaming variable setup\n",
    "\n",
    "from random import sample\n",
    "from nidaqmx.constants import AcquisitionType, RegenerationMode, WriteRelativeTo\n",
    "import numpy as np\n",
    "import threading\n",
    "import time\n",
    "import nidaqmx\n",
    "\n",
    "device = 'PXI1Slot6'\n",
    "ao_channel = \"ao1\"\n",
    "sample_rate = 1e6\n",
    "buffer_seconds = 5\n",
    "num_channels = 1\n",
    "buffer_size = int(sample_rate * buffer_seconds)\n",
    "half_buffer = buffer_size//2"
   ]
  },
  {
   "cell_type": "code",
   "execution_count": 61,
   "id": "0898e7c2",
   "metadata": {},
   "outputs": [
    {
     "name": "stdout",
     "output_type": "stream",
     "text": [
      "Streaming waveform. Press Ctrl+C to stop.\n",
      "Stopping streaming.\n"
     ]
    }
   ],
   "source": [
    "def continuous_waveform_streaming():\n",
    "    with nidaqmx.Task() as ao_task:\n",
    "        ao_task.ao_channels.add_ao_voltage_chan(f\"{device}/{ao_channel}\")\n",
    "\n",
    "        ao_task.timing.cfg_samp_clk_timing(\n",
    "            rate=sample_rate,\n",
    "            sample_mode=AcquisitionType.CONTINUOUS,\n",
    "            samps_per_chan=buffer_size\n",
    "        )\n",
    "\n",
    "        ao_task.out_stream.regen_mode = RegenerationMode.DONT_ALLOW_REGENERATION\n",
    "        ao_task.out_stream.output_buf_size = buffer_size\n",
    "        ao_task.out_stream.relative_to = WriteRelativeTo.CURRENT_WRITE_POSITION\n",
    "\n",
    "        # Generate initial buffer\n",
    "        initial_data = np.sin(2 * np.pi * 100_000 * np.arange(buffer_size) / sample_rate)\n",
    "        ao_task.write(initial_data)\n",
    "\n",
    "        ao_task.start()\n",
    "\n",
    "        stop_event = threading.Event()\n",
    "\n",
    "        def refill_buffer(task, stop_event):\n",
    "            idx = buffer_size\n",
    "            fast_freq = 500_000  # 500 kHz sine wave for fast sine\n",
    "            while not stop_event.is_set():\n",
    "                data = np.sin((2 * np.pi * fast_freq) * np.arange(idx, idx + half_buffer) / sample_rate)\n",
    "                task.write(data, auto_start=False)\n",
    "                idx += half_buffer\n",
    "\n",
    "        stream_thread = threading.Thread(target=refill_buffer, args=(ao_task, stop_event))\n",
    "        stream_thread.start()\n",
    "\n",
    "        try:\n",
    "            print(\"Streaming waveform. Press Ctrl+C to stop.\")\n",
    "            while True:\n",
    "                time.sleep(1)\n",
    "        except KeyboardInterrupt:\n",
    "            print(\"Stopping streaming.\")\n",
    "            stop_event.set()\n",
    "            stream_thread.join()\n",
    "\n",
    "# To run the streaming, uncomment the following line:\n",
    "continuous_waveform_streaming()\n"
   ]
  },
  {
   "cell_type": "code",
   "execution_count": 20,
   "id": "d20ba704",
   "metadata": {},
   "outputs": [
    {
     "name": "stdout",
     "output_type": "stream",
     "text": [
      "Actual sampling rate: 3.0303e+06 S/s\n",
      "Generating voltage continuously. Press Ctrl+C to stop.\n",
      "First data written\n"
     ]
    }
   ],
   "source": [
    "\"\"\"Example of analog output voltage generation.\n",
    "\n",
    "This example demonstrates how to continuously generate an\n",
    "analog output waveform by providing new data to the output buffer\n",
    "as the task is running.\n",
    "\n",
    "This example is useful if you want to generate a non-repeating waveform,\n",
    "make updates on-the-fly, or generate a frequency that is not an\n",
    "even divide-down of your sample clock. In this example,\n",
    "the default frequency value is 17.0 to demonstrate that non-regenerative output\n",
    "can be used to create a signal with a frequency that is not an even divide-down\n",
    "of your sample clock.\n",
    "\"\"\"\n",
    "\n",
    "from typing import Tuple\n",
    "\n",
    "import numpy as np\n",
    "import numpy.typing\n",
    "\n",
    "import nidaqmx\n",
    "from nidaqmx.constants import AcquisitionType, RegenerationMode\n",
    "\n",
    "\n",
    "def generate_wave(\n",
    "    frequency: float,\n",
    "    amplitude: float,\n",
    "    sampling_rate: float,\n",
    "    number_of_samples: int,\n",
    "    phase_in: float = 0.0,\n",
    "    use_sine: bool = True,\n",
    ") -> Tuple[numpy.typing.NDArray[numpy.double], float]:\n",
    "    \"\"\"Generates a sine or square wave with a specified phase.\n",
    "\n",
    "    Args:\n",
    "        frequency: Specifies the frequency of the wave.\n",
    "        amplitude: Specifies the amplitude of the wave.\n",
    "        sampling_rate: Specifies the sampling rate of the wave.\n",
    "        number_of_samples: Specifies the number of samples to generate.\n",
    "        phase_in: Specifies the phase of the wave in radians.\n",
    "        use_sine: If True, generate sine wave; if False, generate square wave.\n",
    "\n",
    "    Returns:\n",
    "        Indicates a tuple containing the generated data and the phase\n",
    "        of the wave after generation.\n",
    "    \"\"\"\n",
    "    duration_time = number_of_samples / sampling_rate\n",
    "    duration_radians = duration_time * 2 * np.pi\n",
    "    phase_out = (phase_in + duration_radians) % (2 * np.pi)\n",
    "    t = np.linspace(phase_in, phase_in + duration_radians, number_of_samples, endpoint=False)\n",
    "\n",
    "    if use_sine:\n",
    "        data = amplitude * np.sin(frequency * t)\n",
    "    else:\n",
    "        data = amplitude * np.sign(np.sin(frequency * t))\n",
    "    return (data, phase_out)\n",
    "\n",
    "def main():\n",
    "    \"\"\"Generate a continuous voltage waveform using an analog output channel of a NI-DAQmx device.\n",
    "\n",
    "    This function sets up a task to generate a continuous voltage waveform using the specified\n",
    "    analog output channel of a NI-DAQmx device. It configures the sampling rate, number of samples,\n",
    "    and regeneration mode of the task. It then enters a loop where it continuously generates a\n",
    "    sine wave with a specified frequency, amplitude, and phase, and writes the waveform to the\n",
    "    analog output channel.\n",
    "    The loop continues until the user interrupts the program by pressing Ctrl+C.\n",
    "\n",
    "    Args:\n",
    "        None\n",
    "\n",
    "    Returns:\n",
    "        None\n",
    "    \"\"\"\n",
    "    with nidaqmx.Task() as task:\n",
    "        is_first_run = True\n",
    "        sampling_rate = 3_000_000.0\n",
    "        number_of_samples = 5_000_000\n",
    "        task.ao_channels.add_ao_voltage_chan(\"PXI1Slot6/ao1\")\n",
    "        task.out_stream.regen_mode = RegenerationMode.DONT_ALLOW_REGENERATION\n",
    "        task.timing.cfg_samp_clk_timing(sampling_rate, sample_mode=AcquisitionType.CONTINUOUS)\n",
    "\n",
    "        actual_sampling_rate = task.timing.samp_clk_rate\n",
    "        print(f\"Actual sampling rate: {actual_sampling_rate:g} S/s\")\n",
    "\n",
    "        try:\n",
    "            phase = 0.0\n",
    "            use_sine = True\n",
    "            print(\"Generating voltage continuously. Press Ctrl+C to stop.\")\n",
    "            while True:\n",
    "                data, phase = generate_wave(\n",
    "                    frequency=1_000_000,\n",
    "                    amplitude=1.0,\n",
    "                    sampling_rate=actual_sampling_rate,\n",
    "                    number_of_samples=number_of_samples,\n",
    "                    phase_in=phase,\n",
    "                    use_sine=use_sine\n",
    "                )\n",
    "                task.write(data)\n",
    "                # Alternate use_sine between True and False\n",
    "                use_sine = not use_sine\n",
    "                if is_first_run:\n",
    "                    print('First data written')\n",
    "                    is_first_run = False\n",
    "                    task.start()\n",
    "        except KeyboardInterrupt:\n",
    "            pass\n",
    "        finally:\n",
    "            task.stop()\n",
    "\n",
    "\n",
    "if __name__ == \"__main__\":\n",
    "    main()"
   ]
  },
  {
   "cell_type": "code",
   "execution_count": null,
   "id": "cb5242dd",
   "metadata": {},
   "outputs": [],
   "source": [
    "import nidaqmx\n",
    "import numpy as np\n",
    "from nidaqmx.constants import AcquisitionType, RegenerationMode, WriteRelativeTo\n",
    "\n",
    "task = nidaqmx.Task()\n",
    "\n",
    "# Set up AO channel\n",
    "task.ao_channels.add_ao_voltage_chan(\"PXI1Slot6/ao1\")\n",
    "\n",
    "task.timing.cfg_samp_clk_timing(\n",
    "    rate=10000,\n",
    "    sample_mode=AcquisitionType.FINITE,\n",
    "    samps_per_chan=1000\n",
    ")\n",
    "\n",
    "# Triggers\n",
    "task.triggers.start_trigger.cfg_dig_edge_start_trig('/PXI1Slot2/PFI0')\n",
    "task.triggers.\n"
   ]
  },
  {
   "cell_type": "markdown",
   "id": "ff30afab",
   "metadata": {},
   "source": [
    "Turning mirror on and of"
   ]
  },
  {
   "cell_type": "code",
   "execution_count": null,
   "id": "84a6c69b",
   "metadata": {},
   "outputs": [],
   "source": [
    "# Turning mirror on and off\n",
    "device = 'PXI1Slot2'\n",
    "ao_channel = \"ao1\"\n",
    "with nidaqmx.Task() as ao_task:\n",
    "    ao_task.ao_channels.add_ao_voltage_chan(f\"{device}/{ao_channel}\")\n",
    "    ao_task.write(4.0)\n",
    "    ao_task.start()\n",
    "    time.sleep(5.0)\n",
    "    ao_task.write(0)\n",
    "    ao_task.stop()"
   ]
  },
  {
   "cell_type": "code",
   "execution_count": 90,
   "id": "c9194836",
   "metadata": {},
   "outputs": [
    {
     "name": "stdout",
     "output_type": "stream",
     "text": [
      "Streaming 1 MHz waveform sampled at 10 MHz. Press Ctrl+C to stop.\n",
      "Stopping streaming.\n"
     ]
    }
   ],
   "source": [
    "# Output the waveform at 1 MHz, sampled at 10 MHz\n",
    "\n",
    "import numpy as np\n",
    "import nidaqmx\n",
    "from nidaqmx.constants import AcquisitionType\n",
    "from nidaqmx.stream_writers import AnalogSingleChannelWriter\n",
    "import time\n",
    "\n",
    "# Desired output frequency of the waveform\n",
    "waveform_freq = 1_00_000  # 1 MHz\n",
    "sample_rate = 1_000_000   # 10 MHz sample rate\n",
    "\n",
    "duration = 1  # seconds (buffer duration)\n",
    "t = np.arange(0, duration, 1/sample_rate)\n",
    "\n",
    "# Example: 1 MHz sine wave, sampled at 10 MHz\n",
    "sine_wave = np.sin(2 * np.pi * waveform_freq * t)\n",
    "# You can use other waveforms as needed, e.g. square, triangle, etc.\n",
    "\n",
    "waveform = sine_wave.astype(np.float64)\n",
    "buffer_size = len(waveform)\n",
    "\n",
    "def stream_waveform():\n",
    "    with nidaqmx.Task() as ao_task:\n",
    "        ao_task.ao_channels.add_ao_voltage_chan(\"PXI1Slot6/ao1\")\n",
    "        ao_task.timing.cfg_samp_clk_timing(\n",
    "            rate=sample_rate,\n",
    "            sample_mode=AcquisitionType.CONTINUOUS,\n",
    "            samps_per_chan=buffer_size\n",
    "        )\n",
    "\n",
    "        writer = AnalogSingleChannelWriter(ao_task.out_stream, auto_start=False)\n",
    "        writer.write_many_sample(waveform)\n",
    "        ao_task.start()\n",
    "\n",
    "        print(\"Streaming 1 MHz waveform sampled at 10 MHz. Press Ctrl+C to stop.\")\n",
    "        try:\n",
    "            while True:\n",
    "                # Refill the buffer to avoid underrun\n",
    "                writer.write_many_sample(waveform)\n",
    "                time.sleep(duration / 2)  # Sleep for half the duration of the buffer\n",
    "        except KeyboardInterrupt:\n",
    "            print(\"Stopping streaming.\")\n",
    "            ao_task.stop()\n",
    "\n",
    "stream_waveform()\n"
   ]
  },
  {
   "cell_type": "markdown",
   "id": "cc12ad3c",
   "metadata": {},
   "source": [
    "Below is a successful implementation of waveform triggering at ~1MHz"
   ]
  },
  {
   "cell_type": "code",
   "execution_count": 20,
   "id": "03565604",
   "metadata": {},
   "outputs": [
    {
     "name": "stdout",
     "output_type": "stream",
     "text": [
      "Waiting for trigger on /PXI1Slot2/PFI0 to output waveform...\n"
     ]
    },
    {
     "ename": "DaqError",
     "evalue": "Wait Until Done did not indicate that the task was done within the specified timeout.\n\nIncrease the timeout, check the program, and make sure connections for external timing and triggering are in place.\nTask Name: _unnamedTask<C>\n\nStatus Code: -200560",
     "output_type": "error",
     "traceback": [
      "\u001b[31m---------------------------------------------------------------------------\u001b[39m",
      "\u001b[31mDaqError\u001b[39m                                  Traceback (most recent call last)",
      "\u001b[36mCell\u001b[39m\u001b[36m \u001b[39m\u001b[32mIn[20]\u001b[39m\u001b[32m, line 32\u001b[39m\n\u001b[32m     30\u001b[39m \u001b[38;5;28mprint\u001b[39m(\u001b[33mf\u001b[39m\u001b[33m\"\u001b[39m\u001b[33mWaiting for trigger on \u001b[39m\u001b[38;5;132;01m{\u001b[39;00mtrigger_source\u001b[38;5;132;01m}\u001b[39;00m\u001b[33m to output waveform...\u001b[39m\u001b[33m\"\u001b[39m)\n\u001b[32m     31\u001b[39m ao_task.start()\n\u001b[32m---> \u001b[39m\u001b[32m32\u001b[39m \u001b[43mao_task\u001b[49m\u001b[43m.\u001b[49m\u001b[43mwait_until_done\u001b[49m\u001b[43m(\u001b[49m\u001b[43mtimeout\u001b[49m\u001b[43m=\u001b[49m\u001b[32;43m10.0\u001b[39;49m\u001b[43m)\u001b[49m\n\u001b[32m     33\u001b[39m \u001b[38;5;28mprint\u001b[39m(\u001b[33m\"\u001b[39m\u001b[33mWaveform output complete.\u001b[39m\u001b[33m\"\u001b[39m)\n\u001b[32m     34\u001b[39m ao_task.stop()\n",
      "\u001b[36mFile \u001b[39m\u001b[32mc:\\Users\\Gardner Lab\\Desktop\\NanoStride\\venv\\Lib\\site-packages\\nidaqmx\\task\\_task.py:1065\u001b[39m, in \u001b[36mTask.wait_until_done\u001b[39m\u001b[34m(self, timeout)\u001b[39m\n\u001b[32m   1049\u001b[39m \u001b[38;5;28;01mdef\u001b[39;00m\u001b[38;5;250m \u001b[39m\u001b[34mwait_until_done\u001b[39m(\u001b[38;5;28mself\u001b[39m, timeout=\u001b[32m10.0\u001b[39m):\n\u001b[32m   1050\u001b[39m \u001b[38;5;250m    \u001b[39m\u001b[33;03m\"\"\"\u001b[39;00m\n\u001b[32m   1051\u001b[39m \u001b[33;03m    Waits for the measurement or generation to complete.\u001b[39;00m\n\u001b[32m   1052\u001b[39m \n\u001b[32m   (...)\u001b[39m\u001b[32m   1063\u001b[39m \u001b[33;03m            an error if the measurement or generation is not done.\u001b[39;00m\n\u001b[32m   1064\u001b[39m \u001b[33;03m    \"\"\"\u001b[39;00m\n\u001b[32m-> \u001b[39m\u001b[32m1065\u001b[39m     \u001b[38;5;28;43mself\u001b[39;49m\u001b[43m.\u001b[49m\u001b[43m_interpreter\u001b[49m\u001b[43m.\u001b[49m\u001b[43mwait_until_task_done\u001b[49m\u001b[43m(\u001b[49m\u001b[38;5;28;43mself\u001b[39;49m\u001b[43m.\u001b[49m\u001b[43m_handle\u001b[49m\u001b[43m,\u001b[49m\u001b[43m \u001b[49m\u001b[43mtimeout\u001b[49m\u001b[43m)\u001b[49m\n",
      "\u001b[36mFile \u001b[39m\u001b[32mc:\\Users\\Gardner Lab\\Desktop\\NanoStride\\venv\\Lib\\site-packages\\nidaqmx\\_library_interpreter.py:5914\u001b[39m, in \u001b[36mLibraryInterpreter.wait_until_task_done\u001b[39m\u001b[34m(self, task, time_to_wait)\u001b[39m\n\u001b[32m   5909\u001b[39m             cfunc.argtypes = [\n\u001b[32m   5910\u001b[39m                 lib_importer.task_handle, ctypes.c_double]\n\u001b[32m   5912\u001b[39m error_code = cfunc(\n\u001b[32m   5913\u001b[39m     task, time_to_wait)\n\u001b[32m-> \u001b[39m\u001b[32m5914\u001b[39m \u001b[38;5;28;43mself\u001b[39;49m\u001b[43m.\u001b[49m\u001b[43mcheck_for_error\u001b[49m\u001b[43m(\u001b[49m\u001b[43merror_code\u001b[49m\u001b[43m)\u001b[49m\n",
      "\u001b[36mFile \u001b[39m\u001b[32mc:\\Users\\Gardner Lab\\Desktop\\NanoStride\\venv\\Lib\\site-packages\\nidaqmx\\_library_interpreter.py:6455\u001b[39m, in \u001b[36mLibraryInterpreter.check_for_error\u001b[39m\u001b[34m(self, error_code, samps_per_chan_written, samps_per_chan_read)\u001b[39m\n\u001b[32m   6453\u001b[39m         \u001b[38;5;28;01mraise\u001b[39;00m DaqWriteError(extended_error_info, error_code, samps_per_chan_written)\n\u001b[32m   6454\u001b[39m     \u001b[38;5;28;01melse\u001b[39;00m:\n\u001b[32m-> \u001b[39m\u001b[32m6455\u001b[39m         \u001b[38;5;28;01mraise\u001b[39;00m DaqError(extended_error_info, error_code)\n\u001b[32m   6457\u001b[39m \u001b[38;5;28;01melif\u001b[39;00m error_code > \u001b[32m0\u001b[39m:\n\u001b[32m   6458\u001b[39m     error_string = \u001b[38;5;28mself\u001b[39m.get_error_string(error_code)\n",
      "\u001b[31mDaqError\u001b[39m: Wait Until Done did not indicate that the task was done within the specified timeout.\n\nIncrease the timeout, check the program, and make sure connections for external timing and triggering are in place.\nTask Name: _unnamedTask<C>\n\nStatus Code: -200560"
     ]
    }
   ],
   "source": [
    "import numpy as np\n",
    "import nidaqmx\n",
    "from nidaqmx.constants import AcquisitionType, Edge\n",
    "\n",
    "fs = 2_000_000  # 1 MS/s\n",
    "cycles = 63\n",
    "samples_per_cycle = 2\n",
    "num_samples = cycles * samples_per_cycle\n",
    "waveform = np.tile([1.0, 0.0], cycles)\n",
    "\n",
    "\n",
    "with nidaqmx.Task() as ao_task:\n",
    "    ao_task.ao_channels.add_ao_voltage_chan(\"PXI1Slot6/ao1\")\n",
    "    ao_task.timing.cfg_samp_clk_timing(\n",
    "        rate=fs,\n",
    "        sample_mode=AcquisitionType.FINITE,\n",
    "        samps_per_chan=num_samples\n",
    "    )\n",
    "\n",
    "    trigger_source = '/PXI1Slot2/PFI0' \n",
    "                                      \n",
    "    ao_task.triggers.start_trigger.cfg_dig_edge_start_trig(\n",
    "        trigger_source=trigger_source,\n",
    "        trigger_edge=Edge.FALLING\n",
    "    )\n",
    "\n",
    "    ao_task.triggers.start_trigger.retriggerable = True\n",
    "\n",
    "    ao_task.write(waveform)\n",
    "    print(f\"Waiting for trigger on {trigger_source} to output waveform...\")\n",
    "    ao_task.start()\n",
    "    ao_task.wait_until_done(timeout=10.0)\n",
    "    print(\"Waveform output complete.\")\n",
    "    ao_task.stop()"
   ]
  },
  {
   "cell_type": "markdown",
   "id": "f11b7d7b",
   "metadata": {},
   "source": [
    "Need to try streaming data in and using this trigger to know when to get the next sample"
   ]
  },
  {
   "cell_type": "code",
   "execution_count": null,
   "id": "ef79e679",
   "metadata": {},
   "outputs": [
    {
     "name": "stdout",
     "output_type": "stream",
     "text": [
      "Waiting for trigger on /PXI1Slot2/PFI0 to output waveform...\n"
     ]
    },
    {
     "ename": "DaqError",
     "evalue": "Wait Until Done did not indicate that the task was done within the specified timeout.\n\nIncrease the timeout, check the program, and make sure connections for external timing and triggering are in place.\nTask Name: _unnamedTask<F>\n\nStatus Code: -200560",
     "output_type": "error",
     "traceback": [
      "\u001b[31m---------------------------------------------------------------------------\u001b[39m",
      "\u001b[31mDaqError\u001b[39m                                  Traceback (most recent call last)",
      "\u001b[36mCell\u001b[39m\u001b[36m \u001b[39m\u001b[32mIn[23]\u001b[39m\u001b[32m, line 34\u001b[39m\n\u001b[32m     32\u001b[39m \u001b[38;5;28mprint\u001b[39m(\u001b[33mf\u001b[39m\u001b[33m\"\u001b[39m\u001b[33mWaiting for trigger on \u001b[39m\u001b[38;5;132;01m{\u001b[39;00mtrigger_source\u001b[38;5;132;01m}\u001b[39;00m\u001b[33m to output waveform...\u001b[39m\u001b[33m\"\u001b[39m)\n\u001b[32m     33\u001b[39m ao_task.start()\n\u001b[32m---> \u001b[39m\u001b[32m34\u001b[39m \u001b[43mao_task\u001b[49m\u001b[43m.\u001b[49m\u001b[43mwait_until_done\u001b[49m\u001b[43m(\u001b[49m\u001b[43mtimeout\u001b[49m\u001b[43m=\u001b[49m\u001b[32;43m10.0\u001b[39;49m\u001b[43m)\u001b[49m\n\u001b[32m     35\u001b[39m \u001b[38;5;28mprint\u001b[39m(\u001b[33m\"\u001b[39m\u001b[33mWaveform output complete.\u001b[39m\u001b[33m\"\u001b[39m)\n\u001b[32m     36\u001b[39m ao_task.stop()\n",
      "\u001b[36mFile \u001b[39m\u001b[32mc:\\Users\\Gardner Lab\\Desktop\\NanoStride\\venv\\Lib\\site-packages\\nidaqmx\\task\\_task.py:1065\u001b[39m, in \u001b[36mTask.wait_until_done\u001b[39m\u001b[34m(self, timeout)\u001b[39m\n\u001b[32m   1049\u001b[39m \u001b[38;5;28;01mdef\u001b[39;00m\u001b[38;5;250m \u001b[39m\u001b[34mwait_until_done\u001b[39m(\u001b[38;5;28mself\u001b[39m, timeout=\u001b[32m10.0\u001b[39m):\n\u001b[32m   1050\u001b[39m \u001b[38;5;250m    \u001b[39m\u001b[33;03m\"\"\"\u001b[39;00m\n\u001b[32m   1051\u001b[39m \u001b[33;03m    Waits for the measurement or generation to complete.\u001b[39;00m\n\u001b[32m   1052\u001b[39m \n\u001b[32m   (...)\u001b[39m\u001b[32m   1063\u001b[39m \u001b[33;03m            an error if the measurement or generation is not done.\u001b[39;00m\n\u001b[32m   1064\u001b[39m \u001b[33;03m    \"\"\"\u001b[39;00m\n\u001b[32m-> \u001b[39m\u001b[32m1065\u001b[39m     \u001b[38;5;28;43mself\u001b[39;49m\u001b[43m.\u001b[49m\u001b[43m_interpreter\u001b[49m\u001b[43m.\u001b[49m\u001b[43mwait_until_task_done\u001b[49m\u001b[43m(\u001b[49m\u001b[38;5;28;43mself\u001b[39;49m\u001b[43m.\u001b[49m\u001b[43m_handle\u001b[49m\u001b[43m,\u001b[49m\u001b[43m \u001b[49m\u001b[43mtimeout\u001b[49m\u001b[43m)\u001b[49m\n",
      "\u001b[36mFile \u001b[39m\u001b[32mc:\\Users\\Gardner Lab\\Desktop\\NanoStride\\venv\\Lib\\site-packages\\nidaqmx\\_library_interpreter.py:5914\u001b[39m, in \u001b[36mLibraryInterpreter.wait_until_task_done\u001b[39m\u001b[34m(self, task, time_to_wait)\u001b[39m\n\u001b[32m   5909\u001b[39m             cfunc.argtypes = [\n\u001b[32m   5910\u001b[39m                 lib_importer.task_handle, ctypes.c_double]\n\u001b[32m   5912\u001b[39m error_code = cfunc(\n\u001b[32m   5913\u001b[39m     task, time_to_wait)\n\u001b[32m-> \u001b[39m\u001b[32m5914\u001b[39m \u001b[38;5;28;43mself\u001b[39;49m\u001b[43m.\u001b[49m\u001b[43mcheck_for_error\u001b[49m\u001b[43m(\u001b[49m\u001b[43merror_code\u001b[49m\u001b[43m)\u001b[49m\n",
      "\u001b[36mFile \u001b[39m\u001b[32mc:\\Users\\Gardner Lab\\Desktop\\NanoStride\\venv\\Lib\\site-packages\\nidaqmx\\_library_interpreter.py:6455\u001b[39m, in \u001b[36mLibraryInterpreter.check_for_error\u001b[39m\u001b[34m(self, error_code, samps_per_chan_written, samps_per_chan_read)\u001b[39m\n\u001b[32m   6453\u001b[39m         \u001b[38;5;28;01mraise\u001b[39;00m DaqWriteError(extended_error_info, error_code, samps_per_chan_written)\n\u001b[32m   6454\u001b[39m     \u001b[38;5;28;01melse\u001b[39;00m:\n\u001b[32m-> \u001b[39m\u001b[32m6455\u001b[39m         \u001b[38;5;28;01mraise\u001b[39;00m DaqError(extended_error_info, error_code)\n\u001b[32m   6457\u001b[39m \u001b[38;5;28;01melif\u001b[39;00m error_code > \u001b[32m0\u001b[39m:\n\u001b[32m   6458\u001b[39m     error_string = \u001b[38;5;28mself\u001b[39m.get_error_string(error_code)\n",
      "\u001b[31mDaqError\u001b[39m: Wait Until Done did not indicate that the task was done within the specified timeout.\n\nIncrease the timeout, check the program, and make sure connections for external timing and triggering are in place.\nTask Name: _unnamedTask<F>\n\nStatus Code: -200560"
     ]
    }
   ],
   "source": [
    "import numpy as np\n",
    "import nidaqmx\n",
    "from nidaqmx.constants import AcquisitionType, Edge, TriggerUsage\n",
    "\n",
    "fs = 2_000_000  # 1 MS/s\n",
    "cycles = 63\n",
    "samples_per_cycle = 2\n",
    "num_samples = cycles * samples_per_cycle\n",
    "waveform = np.tile([1.0, 0.0], cycles)\n",
    "\n",
    "\n",
    "with nidaqmx.Task() as ao_task:\n",
    "    ao_task.ao_channels.add_ao_voltage_chan(\"PXI1Slot6/ao1\")\n",
    "    ao_task.timing.cfg_samp_clk_timing(\n",
    "        rate=fs,\n",
    "        sample_mode=AcquisitionType.FINITE,\n",
    "        samps_per_chan=num_samples\n",
    "    )\n",
    "\n",
    "    trigger_source = '/PXI1Slot2/PFI0' \n",
    "                                      \n",
    "    ao_task.triggers.start_trigger.cfg_dig_edge_start_trig(\n",
    "        trigger_source=trigger_source,\n",
    "        trigger_edge=Edge.FALLING\n",
    "    )\n",
    "\n",
    "    TriggerUsage.ADVANCE\n",
    "\n",
    "    ao_task.triggers.start_trigger.retriggerable = True\n",
    "\n",
    "    ao_task.write(waveform)\n",
    "    print(f\"Waiting for trigger on {trigger_source} to output waveform...\")\n",
    "    ao_task.start()\n",
    "    ao_task.wait_until_done(timeout=10.0)\n",
    "    print(\"Waveform output complete.\")\n",
    "    ao_task.stop()"
   ]
  },
  {
   "cell_type": "markdown",
   "id": "21bc7825",
   "metadata": {},
   "source": [
    "---\n",
    "TRYING SOMETHING NEW\n",
    "---\n",
    "\n"
   ]
  },
  {
   "cell_type": "code",
   "execution_count": 185,
   "id": "22007738",
   "metadata": {},
   "outputs": [],
   "source": [
    "import numpy as np\n",
    "import nidaqmx\n",
    "from nidaqmx import stream_writers\n",
    "from nidaqmx.constants import AcquisitionType, WriteRelativeTo, WaitMode, Edge, TriggerUsage\n",
    "import time\n",
    "\n",
    "def generate_sine_wave(frequency, duration_time, amplitude=1):\n",
    "    sampling_rate = 100_000\n",
    "    number_of_samples = duration_time * sampling_rate\n",
    "    duration_radians = duration_time * 2 * np.pi\n",
    "    phase_in = 0.0\n",
    "    t = np.linspace(phase_in, phase_in+duration_radians, number_of_samples, endpoint=False)\n",
    "    return (amplitude * np.sin(frequency * t))\n",
    "\n",
    "for i in range(10):\n",
    "    with nidaqmx.Task() as ao_task:\n",
    "        ao_task.ao_channels.add_ao_voltage_chan(\"PXI1Slot6/ao1\")\n",
    "        ao_task.out_stream.regen_mode = RegenerationMode.DONT_ALLOW_REGENERATION\n",
    "        ao_task.timing.cfg_samp_clk_timing(100_000.0, sample_mode=AcquisitionType.FINITE, samps_per_chan=1000)\n",
    "        #ao_task.out_stream.relative_to = WriteRelativeTo.CURRENT_WRITE_POSITION\n",
    "        #ao_task.out_stream.wait_mode = WaitMode.POLL\n",
    "        data = generate_sine_wave(1000, 1)\n",
    "        #ao_task.out_stream.output_buf_size = 1000000\n",
    "        stream = stream_writers.AnalogSingleChannelWriter(ao_task.out_stream, auto_start=True)\n",
    "        stream.write_many_sample(data)\n",
    "        ao_task.wait_until_done(timeout=10)\n",
    "        ao_task.stop()\n"
   ]
  },
  {
   "cell_type": "code",
   "execution_count": 216,
   "id": "d2d1d2ad",
   "metadata": {},
   "outputs": [
    {
     "ename": "DaqError",
     "evalue": "The generation has stopped to prevent the regeneration of old samples. Your application was unable to write samples to the background buffer fast enough to prevent old samples from being regenerated.\n\nTo avoid this error, you can do any of the following:\n1. Increase the size of the background buffer by configuring the buffer.\n2. Increase the number of samples you write each time you invoke a write operation.\n3. Write samples more often.\n4. Reduce the sample rate.\n5. If your data transfer method is interrupts, try using DMA or USB Bulk. \n6. Reduce the number of applications your computer is executing concurrently. \n\nIn addition, if you do not need to write every sample that is generated, you can configure the regeneration mode to allow regeneration, and then use the Position and Offset attributes to write the desired samples.\nTask Name: _unnamedTask<191>\n\nStatus Code: -200290",
     "output_type": "error",
     "traceback": [
      "\u001b[31m---------------------------------------------------------------------------\u001b[39m",
      "\u001b[31mDaqError\u001b[39m                                  Traceback (most recent call last)",
      "\u001b[36mCell\u001b[39m\u001b[36m \u001b[39m\u001b[32mIn[216]\u001b[39m\u001b[32m, line 44\u001b[39m\n\u001b[32m     42\u001b[39m     task.start()\n\u001b[32m     43\u001b[39m     \u001b[38;5;66;03m#print_start = time.perf_counter()\u001b[39;00m\n\u001b[32m---> \u001b[39m\u001b[32m44\u001b[39m     \u001b[43mtask\u001b[49m\u001b[43m.\u001b[49m\u001b[43mwait_until_done\u001b[49m\u001b[43m(\u001b[49m\u001b[43m)\u001b[49m\n\u001b[32m     45\u001b[39m     \u001b[38;5;66;03m#task.stop()\u001b[39;00m\n\u001b[32m     46\u001b[39m     \u001b[38;5;66;03m#print(f\"Print time (us): {(time.perf_counter() - print_start) * 1e6}\")\u001b[39;00m\n\u001b[32m     48\u001b[39m \u001b[38;5;28mprint\u001b[39m(\u001b[33mf\u001b[39m\u001b[33m\"\u001b[39m\u001b[33mFull print: \u001b[39m\u001b[38;5;132;01m{\u001b[39;00mtime.perf_counter()\u001b[38;5;250m \u001b[39m-\u001b[38;5;250m \u001b[39mfull_start\u001b[38;5;132;01m}\u001b[39;00m\u001b[33m\"\u001b[39m)\n",
      "\u001b[36mFile \u001b[39m\u001b[32mc:\\Users\\Gardner Lab\\Desktop\\NanoStride\\venv\\Lib\\site-packages\\nidaqmx\\task\\_task.py:1065\u001b[39m, in \u001b[36mTask.wait_until_done\u001b[39m\u001b[34m(self, timeout)\u001b[39m\n\u001b[32m   1049\u001b[39m \u001b[38;5;28;01mdef\u001b[39;00m\u001b[38;5;250m \u001b[39m\u001b[34mwait_until_done\u001b[39m(\u001b[38;5;28mself\u001b[39m, timeout=\u001b[32m10.0\u001b[39m):\n\u001b[32m   1050\u001b[39m \u001b[38;5;250m    \u001b[39m\u001b[33;03m\"\"\"\u001b[39;00m\n\u001b[32m   1051\u001b[39m \u001b[33;03m    Waits for the measurement or generation to complete.\u001b[39;00m\n\u001b[32m   1052\u001b[39m \n\u001b[32m   (...)\u001b[39m\u001b[32m   1063\u001b[39m \u001b[33;03m            an error if the measurement or generation is not done.\u001b[39;00m\n\u001b[32m   1064\u001b[39m \u001b[33;03m    \"\"\"\u001b[39;00m\n\u001b[32m-> \u001b[39m\u001b[32m1065\u001b[39m     \u001b[38;5;28;43mself\u001b[39;49m\u001b[43m.\u001b[49m\u001b[43m_interpreter\u001b[49m\u001b[43m.\u001b[49m\u001b[43mwait_until_task_done\u001b[49m\u001b[43m(\u001b[49m\u001b[38;5;28;43mself\u001b[39;49m\u001b[43m.\u001b[49m\u001b[43m_handle\u001b[49m\u001b[43m,\u001b[49m\u001b[43m \u001b[49m\u001b[43mtimeout\u001b[49m\u001b[43m)\u001b[49m\n",
      "\u001b[36mFile \u001b[39m\u001b[32mc:\\Users\\Gardner Lab\\Desktop\\NanoStride\\venv\\Lib\\site-packages\\nidaqmx\\_library_interpreter.py:5914\u001b[39m, in \u001b[36mLibraryInterpreter.wait_until_task_done\u001b[39m\u001b[34m(self, task, time_to_wait)\u001b[39m\n\u001b[32m   5909\u001b[39m             cfunc.argtypes = [\n\u001b[32m   5910\u001b[39m                 lib_importer.task_handle, ctypes.c_double]\n\u001b[32m   5912\u001b[39m error_code = cfunc(\n\u001b[32m   5913\u001b[39m     task, time_to_wait)\n\u001b[32m-> \u001b[39m\u001b[32m5914\u001b[39m \u001b[38;5;28;43mself\u001b[39;49m\u001b[43m.\u001b[49m\u001b[43mcheck_for_error\u001b[49m\u001b[43m(\u001b[49m\u001b[43merror_code\u001b[49m\u001b[43m)\u001b[49m\n",
      "\u001b[36mFile \u001b[39m\u001b[32mc:\\Users\\Gardner Lab\\Desktop\\NanoStride\\venv\\Lib\\site-packages\\nidaqmx\\_library_interpreter.py:6455\u001b[39m, in \u001b[36mLibraryInterpreter.check_for_error\u001b[39m\u001b[34m(self, error_code, samps_per_chan_written, samps_per_chan_read)\u001b[39m\n\u001b[32m   6453\u001b[39m         \u001b[38;5;28;01mraise\u001b[39;00m DaqWriteError(extended_error_info, error_code, samps_per_chan_written)\n\u001b[32m   6454\u001b[39m     \u001b[38;5;28;01melse\u001b[39;00m:\n\u001b[32m-> \u001b[39m\u001b[32m6455\u001b[39m         \u001b[38;5;28;01mraise\u001b[39;00m DaqError(extended_error_info, error_code)\n\u001b[32m   6457\u001b[39m \u001b[38;5;28;01melif\u001b[39;00m error_code > \u001b[32m0\u001b[39m:\n\u001b[32m   6458\u001b[39m     error_string = \u001b[38;5;28mself\u001b[39m.get_error_string(error_code)\n",
      "\u001b[31mDaqError\u001b[39m: The generation has stopped to prevent the regeneration of old samples. Your application was unable to write samples to the background buffer fast enough to prevent old samples from being regenerated.\n\nTo avoid this error, you can do any of the following:\n1. Increase the size of the background buffer by configuring the buffer.\n2. Increase the number of samples you write each time you invoke a write operation.\n3. Write samples more often.\n4. Reduce the sample rate.\n5. If your data transfer method is interrupts, try using DMA or USB Bulk. \n6. Reduce the number of applications your computer is executing concurrently. \n\nIn addition, if you do not need to write every sample that is generated, you can configure the regeneration mode to allow regeneration, and then use the Position and Offset attributes to write the desired samples.\nTask Name: _unnamedTask<191>\n\nStatus Code: -200290"
     ]
    }
   ],
   "source": [
    "import numpy as np\n",
    "import nidaqmx\n",
    "from nidaqmx.constants import AcquisitionType, Edge, TriggerUsage\n",
    "import time\n",
    "\n",
    "def generate_sine_wave(frequency, sampling_rate, duration_sec, amplitude=1):\n",
    "    t = np.linspace(0, duration_sec, int(sampling_rate * duration_sec), endpoint=False)\n",
    "    return amplitude * np.sin(2 * np.pi * frequency * t)\n",
    "\n",
    "# Parameters\n",
    "frequency = 500000  # 1 kHz sine wave\n",
    "sampling_rate = 1_000_000  # 1 MHz\n",
    "duration_sec = 5  # 5 seconds\n",
    "chunk_duration_sec = 63e-2  # 63 microseconds\n",
    "chunk_size = int(sampling_rate * chunk_duration_sec)\n",
    "\n",
    "# Generate full 5 second sine wave\n",
    "all_data = generate_sine_wave(frequency, sampling_rate, duration_sec)\n",
    "\n",
    "# Split into chunks of 63 microseconds\n",
    "chunks = [all_data[i:i+chunk_size] for i in range(0, len(all_data), chunk_size)]\n",
    "\n",
    "with nidaqmx.Task() as task:\n",
    "    full_start = time.perf_counter()\n",
    "    task.ao_channels.add_ao_voltage_chan(\"PXI1Slot6/ao1\")\n",
    "    trigger_source = '/PXI1Slot2/PFI0' \n",
    "                                      \n",
    "    ao_task.triggers.start_trigger.cfg_dig_edge_start_trig(\n",
    "        trigger_source=trigger_source,\n",
    "        trigger_edge=Edge.FALLING\n",
    "    )\n",
    "    ao_task.triggers.start_trigger.retriggerable = True\n",
    "    ao_task.timing.cfg_samp_clk_timing(1000000, sample_mode=AcquisitionType.FINITE, samps_per_chan=len(chunks[0]))\n",
    "\n",
    "    for i in range(len(chunks)):\n",
    "        #task_start = time.perf_counter()\n",
    "        task.out_stream.regen_mode = RegenerationMode.DONT_ALLOW_REGENERATION\n",
    "        #data = generate_sine_wave(50000, 500000, i)\n",
    "\n",
    "        task.write(chunks[i])\n",
    "        #print(f\"Write time: {time.perf_counter() - task_start}\")\n",
    "        task.start()\n",
    "        #print_start = time.perf_counter()\n",
    "        task.wait_until_done()\n",
    "        #task.stop()\n",
    "        #print(f\"Print time (us): {(time.perf_counter() - print_start) * 1e6}\")\n",
    "        \n",
    "    print(f\"Full print: {time.perf_counter() - full_start}\")"
   ]
  },
  {
   "cell_type": "code",
   "execution_count": null,
   "id": "879dc211",
   "metadata": {},
   "outputs": [],
   "source": []
  }
 ],
 "metadata": {
  "kernelspec": {
   "display_name": "venv (3.13.5)",
   "language": "python",
   "name": "python3"
  },
  "language_info": {
   "codemirror_mode": {
    "name": "ipython",
    "version": 3
   },
   "file_extension": ".py",
   "mimetype": "text/x-python",
   "name": "python",
   "nbconvert_exporter": "python",
   "pygments_lexer": "ipython3",
   "version": "3.13.5"
  }
 },
 "nbformat": 4,
 "nbformat_minor": 5
}
