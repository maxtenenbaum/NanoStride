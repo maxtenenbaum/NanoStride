{
 "cells": [
  {
   "cell_type": "code",
   "execution_count": 1,
   "id": "5134da62",
   "metadata": {},
   "outputs": [],
   "source": [
    "import sys\n",
    "import os\n",
    "sys.path.append(os.path.abspath(os.path.join(os.path.dirname('motion_flow.ipynb'), '..')))\n",
    "from nanostride import MotionController"
   ]
  },
  {
   "cell_type": "code",
   "execution_count": 2,
   "id": "cc738d9a",
   "metadata": {},
   "outputs": [],
   "source": [
    "mc = MotionController()"
   ]
  },
  {
   "cell_type": "code",
   "execution_count": 3,
   "id": "c6713553",
   "metadata": {},
   "outputs": [],
   "source": [
    "mc.zero_stage()"
   ]
  },
  {
   "cell_type": "code",
   "execution_count": 4,
   "id": "918a1454",
   "metadata": {},
   "outputs": [],
   "source": [
    "mc.move_stage_to_point(\"1\", 0)"
   ]
  },
  {
   "cell_type": "code",
   "execution_count": 5,
   "id": "71c8c912",
   "metadata": {},
   "outputs": [],
   "source": [
    "mc.close_stage()"
   ]
  },
  {
   "cell_type": "code",
   "execution_count": 6,
   "id": "07018638",
   "metadata": {},
   "outputs": [],
   "source": [
    "mc.close_hexapod()"
   ]
  },
  {
   "cell_type": "code",
   "execution_count": null,
   "id": "c8aa8ed5",
   "metadata": {},
   "outputs": [],
   "source": []
  }
 ],
 "metadata": {
  "kernelspec": {
   "display_name": "venv",
   "language": "python",
   "name": "python3"
  },
  "language_info": {
   "codemirror_mode": {
    "name": "ipython",
    "version": 3
   },
   "file_extension": ".py",
   "mimetype": "text/x-python",
   "name": "python",
   "nbconvert_exporter": "python",
   "pygments_lexer": "ipython3",
   "version": "3.13.5"
  }
 },
 "nbformat": 4,
 "nbformat_minor": 5
}
