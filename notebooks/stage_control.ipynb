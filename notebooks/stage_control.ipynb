{
 "cells": [
  {
   "cell_type": "code",
   "execution_count": 67,
   "id": "106bb91c",
   "metadata": {},
   "outputs": [],
   "source": [
    "import SPiiPlusPython as sp "
   ]
  },
  {
   "cell_type": "code",
   "execution_count": 68,
   "id": "c7e8d52f",
   "metadata": {},
   "outputs": [],
   "source": [
    "# Open serial connection\n",
    "hc = sp.OpenCommSerial(1, 115200)"
   ]
  },
  {
   "cell_type": "code",
   "execution_count": 74,
   "id": "35188a30",
   "metadata": {},
   "outputs": [],
   "source": [
    "# Running buffer 1 at the startup level for homing\n",
    "sp.RunBuffer(hc, 1, \"STARTUP\", sp.SYNCHRONOUS, True)"
   ]
  },
  {
   "cell_type": "code",
   "execution_count": 70,
   "id": "6efd0488",
   "metadata": {},
   "outputs": [],
   "source": [
    "# Enable X-axis\n",
    "sp.Enable(hc, 0, sp.SYNCHRONOUS, True)\n",
    "# Enable Y-axis\n",
    "sp.Enable(hc, 1, sp.SYNCHRONOUS, True)"
   ]
  },
  {
   "cell_type": "code",
   "execution_count": null,
   "id": "6948140d",
   "metadata": {},
   "outputs": [],
   "source": [
    "# Moving axis to a point at a set velocity\n",
    "sp.ExtToPoint(\n",
    "    hc,\n",
    "    sp.MotionFlags.ACSC_AMF_VELOCITY,\n",
    "    sp.Axis.ACSC_AXIS_0,\n",
    "    # millimeters\n",
    "    0,\n",
    "    # millimeters per second\n",
    "    velocity=15,\n",
    "    wait=sp.SYNCHRONOUS,\n",
    "    failure_check=True\n",
    ")"
   ]
  },
  {
   "cell_type": "code",
   "execution_count": 106,
   "id": "6eedc61b",
   "metadata": {},
   "outputs": [],
   "source": [
    "# Moving multiple axes to a single point at specified velocity\n",
    "sp.ExtToPointM(\n",
    "    hc,\n",
    "    sp.MotionFlags.ACSC_AMF_VELOCITY | sp.MotionFlags.ACSC_AMF_ENDVELOCITY,\n",
    "    # Need the -1 at the end to mark the end of the axis array\n",
    "    [0,1,-1],\n",
    "    # X, Y points\n",
    "    point=[-10,-10],\n",
    "    velocity=50,\n",
    "    endVelocity= 0,\n",
    "    failure_check=True\n",
    ")"
   ]
  },
  {
   "cell_type": "code",
   "execution_count": null,
   "id": "f967d0c4",
   "metadata": {},
   "outputs": [],
   "source": [
    "# Single axis job with specified velocity (Could set up with timing or external trigger?)\n",
    "sp.Jog(\n",
    "    hc, \n",
    "    sp.MotionFlags.ACSC_AMF_VELOCITY, \n",
    "    sp.Axis.ACSC_AXIS_1,\n",
    "    # Direction and velocity (Positive or negative value)\n",
    "    10,\n",
    "    failure_check=True\n",
    "    )"
   ]
  },
  {
   "cell_type": "code",
   "execution_count": null,
   "id": "c68cc2ac",
   "metadata": {},
   "outputs": [],
   "source": [
    "# Single axis, multiple points\n",
    "\n",
    "sp.MultiPoint(\n",
    "    hc,\n",
    "    sp.MotionFlags.ACSC_AMF_VELOCITY,\n",
    "    sp.Axis.ACSC_AXIS_1,\n",
    "    1,\n",
    "    failure_check=True,\n",
    ")\n",
    "\n",
    "# ExtAddPoint allows you to specify the values for the flags in the method, in this case, velocity\n",
    "sp.ExtAddPoint(hc, sp.Axis.ACSC_AXIS_1, 10, 25)\n",
    "sp.ExtAddPoint(hc, sp.Axis.ACSC_AXIS_1, -10, 15)\n",
    "sp.ExtAddPoint(hc, sp.Axis.ACSC_AXIS_1, 15, 15)\n",
    "sp.ExtAddPoint(hc, sp.Axis.ACSC_AXIS_1, 0, 15)\n",
    "\n",
    "\n",
    "sp.EndSequence(hc, sp.Axis.ACSC_AXIS_1)\n"
   ]
  },
  {
   "cell_type": "code",
   "execution_count": 51,
   "id": "4274aaa4",
   "metadata": {},
   "outputs": [],
   "source": [
    "# Multi-axis, multiple points (Drawing a square)\n",
    "axes = [0,1,-1]\n",
    "sp.MultiPointM(\n",
    "    hc,\n",
    "    sp.MotionFlags.ACSC_AMF_VELOCITY,\n",
    "    axes,\n",
    "    1,\n",
    "    failure_check=True\n",
    ")\n",
    "\n",
    "sp.ExtAddPointM(hc, axes, (0,0), 25)\n",
    "for i in range(10):\n",
    "    sp.ExtAddPointM(hc, axes, (-10,10), 25)\n",
    "    sp.ExtAddPointM(hc, axes, (10,10), 25)\n",
    "    sp.ExtAddPointM(hc, axes, (10,-10), 25)\n",
    "    sp.ExtAddPointM(hc, axes, (-10,-10), 25)\n",
    "sp.ExtAddPointM(hc, axes, (0,0), 25)\n",
    "sp.EndSequenceM(hc, axes) # end of multipoint motion"
   ]
  },
  {
   "cell_type": "code",
   "execution_count": 20,
   "id": "8d6f2f9b",
   "metadata": {},
   "outputs": [],
   "source": [
    "# Single axis spline\n",
    "sp.Spline(hc, sp.MotionFlags.ACSC_AMF_CUBIC, 0, 1000, sp.SYNCHRONOUS, True)\n",
    "for i in range(5):\n",
    "    sp.AddPVPoint(hc, 0, i*1.5, 25, sp.SYNCHRONOUS, True)\n",
    "sp.EndSequence(hc, 0, sp.SYNCHRONOUS, True)"
   ]
  },
  {
   "cell_type": "code",
   "execution_count": null,
   "id": "75123d26",
   "metadata": {},
   "outputs": [],
   "source": [
    "# Multi-axis spline (Drawing a circle)\n",
    "\n",
    "import math\n",
    "axes = (0, 1, -1)\n",
    "\n",
    "sp.SplineM(\n",
    "    hc,\n",
    "    sp.MotionFlags.ACSC_AMF_CUBIC,\n",
    "    axes,\n",
    "    1000,\n",
    "    failure_check=True\n",
    ")\n",
    "\n",
    "# Drawing a circle\n",
    "radius = 10\n",
    "num_steps = 5\n",
    "angular_speed = 2 * math.pi / (num_steps * 1.0)\n",
    "\n",
    "for i in range(num_steps):\n",
    "    angle = (2 * math.pi / num_steps) * i\n",
    "    x = radius * math.cos(angle)\n",
    "    y = radius * math.sin(angle)\n",
    "    vx = -radius * math.sin(angle) * angular_speed\n",
    "    vy = radius * math.cos(angle) * angular_speed\n",
    "    sp.AddPVPointM(hc, axes, (x, y), (vx, vy))\n",
    "\n",
    "# PV = Position + Velocity\n",
    "# PVT = Position + Velocity + Time -> Can use for laser synchronization\n",
    "sp.AddPVPointM(hc, axes, (radius, 0), (0, angular_speed * radius))\n",
    "sp.EndSequenceM(hc, axes)\n"
   ]
  },
  {
   "cell_type": "code",
   "execution_count": null,
   "id": "7daeb504",
   "metadata": {},
   "outputs": [],
   "source": [
    "# For converting DXF to something that can be used here:\n",
    "# \n",
    "# Need to convert the DXF into segments:\n",
    "#   1. Line segments\n",
    "#   2. Arc segments\n",
    "# \n",
    "# Non-uniform rational basis spline \n",
    "# could be better than cubic interpolation\n",
    "#\n",
    "#\n",
    "#\n",
    "#"
   ]
  },
  {
   "cell_type": "code",
   "execution_count": 71,
   "id": "439315c7",
   "metadata": {},
   "outputs": [
    {
     "name": "stdout",
     "output_type": "stream",
     "text": [
      "(22.622435000000003, 6.976248)\n",
      "(22.687435, 6.976248)\n",
      "(22.687435, 7.093748)\n",
      "(22.622435000000003, 7.093748)\n",
      "(22.622435000000003, 7.115247999999999)\n",
      "(22.687435, 7.115247999999999)\n",
      "(22.687435, 7.232748)\n",
      "(22.622435000000003, 7.232748)\n",
      "(22.353435, 6.976248)\n",
      "(22.418435000000002, 6.976248)\n",
      "(22.418435000000002, 7.093748)\n",
      "(22.353435, 7.093748)\n",
      "(22.353435, 7.115247999999999)\n",
      "(22.418435000000002, 7.115247999999999)\n",
      "(22.418435000000002, 7.232748)\n",
      "(22.353435, 7.232748)\n",
      "(19.053937, -26.389567)\n",
      "(19.143931000000002, -26.479609)\n",
      "(25.901949000000002, -26.479563)\n",
      "(25.991949, -26.389563)\n",
      "(25.991949, -20.937562999999997)\n",
      "(25.901949000000002, -20.847562999999997)\n",
      "(22.672079, -18.982553)\n",
      "(22.671118999999997, -18.982553)\n",
      "(22.671118999999997, 6.777116)\n",
      "(22.806656999999998, 6.817066)\n",
      "(22.841973000000003, 6.935299)\n",
      "(23.409063999999997, 6.935299)\n",
      "(23.915472, 6.729566)\n",
      "(24.875472000000002, 6.729566)\n",
      "(24.875472000000002, 7.479566)\n",
      "(23.915472, 7.479566)\n",
      "(23.409165, 7.273918)\n",
      "(22.841973000000003, 7.273918)\n",
      "(22.806656999999998, 7.392066)\n",
      "(22.671118999999997, 7.432016)\n",
      "(22.371119, 7.432016)\n",
      "(22.231657, 7.392066)\n",
      "(22.195059, 7.274157)\n",
      "(21.629149, 7.274157)\n",
      "(21.629149, 7.273918)\n",
      "(21.122842000000002, 7.479566)\n",
      "(20.158666, 7.479566)\n",
      "(20.158666, 6.729566)\n",
      "(21.122842000000002, 6.729566)\n",
      "(21.62925, 6.935299)\n",
      "(22.196341, 6.935299)\n",
      "(22.231657, 6.817066)\n",
      "(22.371119, 6.777116)\n",
      "(22.371119, -18.982553)\n",
      "(19.143949, -20.847562999999997)\n",
      "(19.053949, -20.937562999999997)\n"
     ]
    }
   ],
   "source": [
    "import ezdxf\n",
    "\n",
    "outline = ezdxf.readfile(r'C:\\Users\\max\\Desktop\\NanoStride\\test_files\\Nov2025design_nanoclip_outline_v4.dxf')\n",
    "msp = outline.modelspace()\n",
    "\n",
    "coordinates = []\n",
    "\n",
    "for entity in msp:\n",
    "    if entity.dxftype() == 'LWPOLYLINE':\n",
    "        points = entity.get_points()  # Returns (x, y, [start_width, end_width, bulge])\n",
    "        for x, y, *_ in points:\n",
    "            coordinates.append((x, y))\n",
    "\n",
    "    elif entity.dxftype() == 'POLYLINE':\n",
    "        for vertex in entity.vertices:\n",
    "            x, y = vertex.dxf.location.x, vertex.dxf.location.y\n",
    "            coordinates.append((x, y))\n",
    "coordinates_mm = [(x / 1000, y / 1000) for x, y in coordinates]\n",
    "for pt in coordinates_mm:\n",
    "    print(pt)"
   ]
  },
  {
   "cell_type": "code",
   "execution_count": 73,
   "id": "e2404063",
   "metadata": {},
   "outputs": [],
   "source": [
    "# Multi-axis, multiple points (Drawing outline)\n",
    "axes = [0,1,-1]\n",
    "sp.MultiPointM(\n",
    "    hc,\n",
    "    sp.MotionFlags.ACSC_AMF_VELOCITY,\n",
    "    axes,\n",
    "    1,\n",
    "    failure_check=True\n",
    ")\n",
    "\n",
    "sp.ExtAddPointM(hc, axes, (0,0), 25)\n",
    "for i in range(len(coordinates_mm)):\n",
    "    try:\n",
    "        sp.ExtAddPointM(hc, axes, coordinates_mm[i], 25)\n",
    "    except Exception as e:\n",
    "        print(e)\n",
    "sp.ExtAddPointM(hc, axes, (0,0), 25)\n",
    "sp.EndSequenceM(hc, axes)"
   ]
  },
  {
   "cell_type": "code",
   "execution_count": 53,
   "id": "1af8ce16",
   "metadata": {},
   "outputs": [],
   "source": [
    "sp.KillAll(hc)"
   ]
  },
  {
   "cell_type": "code",
   "execution_count": 75,
   "id": "dd1dc75e",
   "metadata": {},
   "outputs": [],
   "source": [
    "# Disable all\n",
    "sp.DisableAll(hc, sp.SYNCHRONOUS, True)"
   ]
  },
  {
   "cell_type": "code",
   "execution_count": 76,
   "id": "2af06abb",
   "metadata": {},
   "outputs": [],
   "source": [
    "# Close connection\n",
    "sp.CloseComm(hc)"
   ]
  },
  {
   "cell_type": "code",
   "execution_count": null,
   "id": "84a1abab",
   "metadata": {},
   "outputs": [],
   "source": []
  }
 ],
 "metadata": {
  "kernelspec": {
   "display_name": "venv",
   "language": "python",
   "name": "python3"
  },
  "language_info": {
   "codemirror_mode": {
    "name": "ipython",
    "version": 3
   },
   "file_extension": ".py",
   "mimetype": "text/x-python",
   "name": "python",
   "nbconvert_exporter": "python",
   "pygments_lexer": "ipython3",
   "version": "3.13.5"
  }
 },
 "nbformat": 4,
 "nbformat_minor": 5
}
