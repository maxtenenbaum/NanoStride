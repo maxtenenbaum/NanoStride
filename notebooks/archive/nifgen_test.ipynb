{
 "cells": [
  {
   "cell_type": "code",
   "execution_count": 2,
   "metadata": {},
   "outputs": [],
   "source": [
    "import nifgen\n",
    "import time\n",
    "import numpy as np\n",
    "import os\n",
    "import math"
   ]
  },
  {
   "cell_type": "code",
   "execution_count": 3,
   "metadata": {},
   "outputs": [],
   "source": [
    "# Outputs a sine wave\n",
    "with nifgen.Session(\"Dev1\") as session:\n",
    "    session.output_mode = nifgen.OutputMode.FUNC\n",
    "    session.configure_standard_waveform(waveform = nifgen.Waveform.SQUARE, amplitude=1.0, frequency = 7911.16)\n",
    "    with session.initiate():\n",
    "        time.sleep(10)"
   ]
  },
  {
   "cell_type": "code",
   "execution_count": 4,
   "metadata": {},
   "outputs": [],
   "source": [
    "# Outputs a sine wave\n",
    "with nifgen.Session(\"Dev1\") as session:\n",
    "    session.output_mode = nifgen.OutputMode.FUNC\n",
    "    session.configure_standard_waveform(waveform = nifgen.Waveform.SQUARE, amplitude=1.0, frequency = 7911.15)\n",
    "    session.start_trigger_type = nifgen.StartTriggerType.DIGITAL_EDGE\n",
    "    session.digital_edge_start_trigger_edge = nifgen.StartTriggerDigitalEdgeEdge.RISING\n",
    "    session.digital_edge_start_trigger_source = \"/Dev1/PFI1\"\n",
    "    with session.initiate():\n",
    "        time.sleep(10)"
   ]
  },
  {
   "cell_type": "code",
   "execution_count": 7,
   "metadata": {},
   "outputs": [
    {
     "data": {
      "text/plain": [
       "6320"
      ]
     },
     "execution_count": 7,
     "metadata": {},
     "output_type": "execute_result"
    }
   ],
   "source": [
    "len(waveform)"
   ]
  },
  {
   "cell_type": "code",
   "execution_count": 5,
   "metadata": {},
   "outputs": [
    {
     "name": "stdout",
     "output_type": "stream",
     "text": [
      "Armed. A new waveform will play on each rising TTL pulse at PFI1.\n"
     ]
    }
   ],
   "source": [
    "import nifgen\n",
    "import numpy as np\n",
    "import time\n",
    "\n",
    "# TTL aligned wave\n",
    "# Settings\n",
    "resource_name = \"Dev1\"\n",
    "sample_rate = 30_000_000  # 10 MS/s\n",
    "waveform_freq = 7911.24    # 7911.3 Hz square wave\n",
    "duration = 1 / waveform_freq  # Full period = 126.4 µs\n",
    "num_samples = int(sample_rate * duration)\n",
    "\n",
    "# Timing\n",
    "t = np.linspace(0, duration, num_samples, endpoint=False)\n",
    "\n",
    "# Step 1: Base square wave\n",
    "square_wave = np.sign(np.sin(2 * np.pi * waveform_freq * t))\n",
    "\n",
    "# Step 2: Identify high portion (the +1 region)\n",
    "high_indices = np.where(square_wave > 0)[0]\n",
    "\n",
    "# Step 3: Create high-frequency pulses (e.g., 1 MHz) to insert into the high part\n",
    "pulse_freq = 1_000_000  # 1 MHz\n",
    "pulse_wave = 0.5 * np.sign(np.cos(2 * np.pi * pulse_freq * t[high_indices]))\n",
    "\n",
    "# Step 4: Replace high part of square wave with high-freq pulses\n",
    "waveform = square_wave.copy()\n",
    "waveform[high_indices] = pulse_wave\n",
    "\n",
    "# Optional: scale from -1/1 to 0/1 if needed\n",
    "# waveform = (waveform + 1) / 2\n",
    "\n",
    "waveform = waveform.tolist()\n",
    "\n",
    "\n",
    "# Initialize session\n",
    "with nifgen.Session(resource_name) as session:\n",
    "    # Set to ARB mode\n",
    "    session.output_mode = nifgen.OutputMode.ARB\n",
    "    session.arb_sample_rate = sample_rate\n",
    "\n",
    "    # Write waveform to device memory\n",
    "    wf_handle = session.create_waveform(waveform)\n",
    "\n",
    "    # Configure trigger\n",
    "    session.start_trigger_type = nifgen.StartTriggerType.DIGITAL_EDGE\n",
    "    session.digital_edge_start_trigger_edge = nifgen.StartTriggerDigitalEdgeEdge.RISING\n",
    "    session.trigger_mode = nifgen.TriggerMode.STEPPED\n",
    "    session.digital_edge_start_trigger_source = \"/Dev1/PFI1\"\n",
    "\n",
    "    # Configure the arbitrary waveform to be played\n",
    "    # The gain and offset depend on your desired output voltage range.\n",
    "    # For now, we'll assume defaults or 1.0 gain, 0.0 offset.\n",
    "    session.configure_arb_waveform(wf_handle, gain=1.0, offset=0.0)\n",
    "\n",
    "    # Set the number of times the waveform should repeat *per trigger*\n",
    "    # This is the property that controls the \"finite\" aspect you mentioned.\n",
    "\n",
    "    # Enable retriggering by setting the repetition mode to continuous\n",
    "    # and using the start trigger to gate each repetition.\n",
    "    # The combination of start_trigger_type and waveform_repetitions = 1\n",
    "    # is what enables finite retriggering of a single waveform.\n",
    "    # Many NI FGen devices handle retriggering implicitly when a start trigger\n",
    "    # is configured and the output mode is ARB.\n",
    "\n",
    "    session.initiate()\n",
    "\n",
    "    print(\"Armed. A new waveform will play on each rising TTL pulse at PFI1.\")\n",
    "    time.sleep(5)  # Keep session alive for 10 seconds"
   ]
  },
  {
   "cell_type": "code",
   "execution_count": 8,
   "metadata": {},
   "outputs": [],
   "source": [
    "# Chunking waveform for streaming\n",
    "\n",
    "# Raw waveform\n",
    "waveform = r\"C:\\Users\\max\\Desktop\\NanoStride\\waveform_output_smaller.bin\"\n",
    "\n",
    "# Determining allocation size\n",
    "def allocation_size(waveform):\n",
    "    total_size_bytes = os.path.getsize(waveform)\n",
    "    max_chunk_size = 10 * 1024 * 1024 # 200MB\n",
    "\n",
    "    valid_chunks = set()\n",
    "    for i in range(1, int(math.isqrt(total_size_bytes))+1):\n",
    "        if total_size_bytes % i == 0:\n",
    "            complement = total_size_bytes // i\n",
    "            if i <= max_chunk_size:\n",
    "                valid_chunks.add(i)\n",
    "            if complement <= max_chunk_size:\n",
    "                valid_chunks.add(complement)\n",
    "    return(max(valid_chunks) if valid_chunks else None)\n",
    "\n",
    "# Setting waveform handle and waveform size\n",
    "waveform_size = allocation_size(r\"C:\\Users\\max\\Desktop\\NanoStride\\waveform_output_smaller.bin\")\n"
   ]
  },
  {
   "cell_type": "code",
   "execution_count": 10,
   "metadata": {},
   "outputs": [],
   "source": [
    "# Loading first chunk for test\n",
    "first_chunk = open(waveform, \"rb\").read(allocation_size(waveform))\n"
   ]
  },
  {
   "cell_type": "code",
   "execution_count": 11,
   "metadata": {},
   "outputs": [
    {
     "data": {
      "text/plain": [
       "9536000"
      ]
     },
     "execution_count": 11,
     "metadata": {},
     "output_type": "execute_result"
    }
   ],
   "source": [
    "len(first_chunk)"
   ]
  },
  {
   "cell_type": "code",
   "execution_count": 21,
   "metadata": {},
   "outputs": [],
   "source": [
    "with nifgen.Session(\"Dev1\") as session:\n",
    "    session.clear_arb_memory()"
   ]
  },
  {
   "cell_type": "code",
   "execution_count": 6,
   "metadata": {},
   "outputs": [],
   "source": [
    "# Testing abitrary waveform\n",
    "\n",
    "#waveform = np.fromfile(r\"C:\\Users\\max\\Desktop\\NanoStride\\waveform_output.bin\", dtype=np.float64)\n",
    "#waveform_handle = session.create_waveform_from_file_f64(r'C:\\Users\\max\\Desktop\\NanoStride\\waveform_output.bin', byte_order=nifgen.ByteOrder.LITTLE)\n",
    "\n",
    "\n",
    "with nifgen.Session(\"Dev1\") as session:\n",
    "    session.output_mode = nifgen.OutputMode.ARB\n",
    "    session.arb_sample_rate = 25e6\n",
    "\n",
    "    num_samples = 100\n",
    "    waveform = np.sin(np.linspace(0, 2 * np.pi, num_samples)).tolist()\n",
    "    waveform_handle = session.create_waveform(waveform)\n",
    "    #waveform_handle = session.streaming_waveform_handle()\n",
    "    #session.channels[\"0\"].arb_waveform = waveform_handle\n",
    "\n",
    "    with session.initiate():\n",
    "        time.sleep(5)"
   ]
  },
  {
   "cell_type": "code",
   "execution_count": 19,
   "metadata": {},
   "outputs": [],
   "source": [
    "def stream_waveform(waveform_path, chunk_size_bytes):\n",
    "    with open(waveform_path, \"rb\") as f:\n",
    "        first_bytes = f.read(chunk_size_bytes)\n",
    "\n",
    "    # Convert raw bytes to float64, then to float32\n",
    "    first_data = np.frombuffer(first_bytes, dtype='<f8').astype(np.float32)\n",
    "\n",
    "    with nifgen.Session(\"Dev1\") as session:\n",
    "        session.output_mode = nifgen.OutputMode.SCRIPT\n",
    "        session.arb_sample_rate = 25e6\n",
    "\n",
    "        waveform_name = \"streamwave\"\n",
    "        num_samples = len(first_data)\n",
    "\n",
    "\n",
    "        # ✅ Allocate a named waveform\n",
    "        session.allocate_named_waveform(waveform_name, num_samples)\n",
    "\n",
    "        # ✅ Write the waveform using the name (not handle)\n",
    "        session.write_waveform(waveform_name, first_data.tolist())\n",
    "\n",
    "        # ✅ Write a script that references the named waveform\n",
    "        session.write_script(f\"\"\"\n",
    "        script main\n",
    "                generate {waveform_name}\n",
    "        end script\n",
    "        \"\"\")\n",
    "\n",
    "\n",
    "        # ✅ Start generation\n",
    "        with session.initiate():\n",
    "            session.wait_until_done()\n",
    "\n",
    "if __name__ == \"__main__\":\n",
    "    chunk_size_bytes = 64000 * 1024  # 64 KB\n",
    "    waveform_path = r\"C:\\Users\\max\\Desktop\\NanoStride\\waveform_output.bin\"\n",
    "    stream_waveform(waveform_path, chunk_size_bytes)\n"
   ]
  },
  {
   "cell_type": "code",
   "execution_count": 44,
   "metadata": {},
   "outputs": [
    {
     "name": "stdout",
     "output_type": "stream",
     "text": [
      "0\n",
      "1\n",
      "2\n",
      "3\n",
      "4\n",
      "5\n",
      "6\n",
      "7\n",
      "8\n",
      "9\n",
      "10\n",
      "11\n"
     ]
    }
   ],
   "source": [
    "def stream_full_waveform(waveform_path):\n",
    "\n",
    "    # Determine chunk size and number of chunks\n",
    "    chunk_size_bytes = allocation_size(waveform_path)\n",
    "    total_size_bytes = os.path.getsize(waveform_path)\n",
    "    num_chunks = total_size_bytes // chunk_size_bytes\n",
    "\n",
    "    with open(waveform_path, \"rb\") as f:\n",
    "        for _ in range(num_chunks):\n",
    "            print(_)\n",
    "            chunk = f.read(chunk_size_bytes)\n",
    "\n",
    "            # Ensure chunk size is a multiple of 8 bytes (float64)\n",
    "            valid_bytes = len(chunk) - (len(chunk) % 8)\n",
    "            chunk = chunk[:valid_bytes]\n",
    "\n",
    "            data = np.frombuffer(chunk, dtype='<f8').astype(np.float32)\n",
    "\n",
    "            with nifgen.Session(\"Dev1\") as session:\n",
    "                session.output_mode = nifgen.OutputMode.SCRIPT\n",
    "                session.arb_sample_rate = 25e6\n",
    "\n",
    "                waveform_name = \"streamwave\"\n",
    "                num_samples = len(data)\n",
    "\n",
    "\n",
    "                # ✅ Allocate a named waveform\n",
    "                session.allocate_named_waveform(waveform_name, num_samples)\n",
    "\n",
    "                # ✅ Write the waveform using the name (not handle)\n",
    "                session.write_waveform(waveform_name, data.tolist())\n",
    "\n",
    "                # ✅ Write a script that references the named waveform\n",
    "                session.write_script(f\"\"\"\n",
    "                script main\n",
    "                    repeat 1\n",
    "                        generate {waveform_name}\n",
    "                    end repeat\n",
    "                end script\n",
    "                \"\"\")\n",
    "\n",
    "\n",
    "                # ✅ Start generation\n",
    "                with session.initiate():\n",
    "                    session.wait_until_done()\n",
    "\n",
    "if __name__ == \"__main__\":\n",
    "    chunk_size_bytes = 64000 * 1024  # 64 KB\n",
    "    waveform_path = r\"C:\\Users\\max\\Desktop\\NanoStride\\waveform_output_smaller.bin\"\n",
    "    stream_full_waveform(waveform_path)\n"
   ]
  },
  {
   "cell_type": "code",
   "execution_count": 18,
   "metadata": {},
   "outputs": [],
   "source": [
    "def stream_full_waveform(waveform_path):\n",
    "    # Determine chunk size and number of chunks\n",
    "    chunk_size_bytes = allocation_size(waveform_path)\n",
    "    total_size_bytes = os.path.getsize(waveform_path)\n",
    "    num_chunks = total_size_bytes // chunk_size_bytes\n",
    "    bytes_streamed = 0  # Track total bytes streamed\n",
    "\n",
    "    with open(waveform_path, \"rb\") as f:\n",
    "        for _ in range(num_chunks):\n",
    "            #print(_)\n",
    "            chunk = f.read(chunk_size_bytes)\n",
    "            #bytes_streamed += len(chunk)\n",
    "\n",
    "            # Ensure chunk size is a multiple of 8 bytes (float64)\n",
    "            valid_bytes = len(chunk) - (len(chunk) % 8)\n",
    "            chunk = chunk[:valid_bytes]\n",
    "\n",
    "            data = np.frombuffer(chunk, dtype='<f8').astype(np.float32)\n",
    "\n",
    "            with nifgen.Session(\"Dev1\") as session:\n",
    "                session.output_mode = nifgen.OutputMode.SCRIPT\n",
    "                session.arb_sample_rate = 100_000_000\n",
    "\n",
    "                waveform_name = \"streamwave\"\n",
    "                num_samples = len(data)\n",
    "\n",
    "                # ✅ Allocate a named waveform\n",
    "                session.allocate_named_waveform(waveform_name, num_samples)\n",
    "\n",
    "                # ✅ Write the waveform using the name (not handle)\n",
    "                session.write_waveform(waveform_name, data.tolist())\n",
    "\n",
    "                # ✅ Write a script that references the named waveform\n",
    "                session.write_script(f\"\"\"\n",
    "                script main\n",
    "                    repeat 1\n",
    "                        generate {waveform_name}\n",
    "                    end repeat\n",
    "                end script\n",
    "                \"\"\")\n",
    "\n",
    "                # ✅ Start generation\n",
    "                with session.initiate():\n",
    "                    session.wait_until_done()\n",
    "\n",
    "    #print(f\"Total bytes streamed: {bytes_streamed}\")\n",
    "    #rint(f\"Total file size     : {total_size_bytes}\")\n"
   ]
  },
  {
   "cell_type": "code",
   "execution_count": 20,
   "metadata": {},
   "outputs": [],
   "source": [
    "waveform_path = r\"C:\\Users\\max\\Desktop\\NanoStride\\waveform_output.bin\"\n",
    "stream_full_waveform(waveform_path)"
   ]
  },
  {
   "cell_type": "code",
   "execution_count": null,
   "metadata": {},
   "outputs": [],
   "source": []
  }
 ],
 "metadata": {
  "kernelspec": {
   "display_name": "venv",
   "language": "python",
   "name": "python3"
  },
  "language_info": {
   "codemirror_mode": {
    "name": "ipython",
    "version": 3
   },
   "file_extension": ".py",
   "mimetype": "text/x-python",
   "name": "python",
   "nbconvert_exporter": "python",
   "pygments_lexer": "ipython3",
   "version": "3.13.5"
  }
 },
 "nbformat": 4,
 "nbformat_minor": 2
}
