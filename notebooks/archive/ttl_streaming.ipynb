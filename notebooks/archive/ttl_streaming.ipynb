{
 "cells": [
  {
   "cell_type": "code",
   "execution_count": 1,
   "id": "0350dfbd",
   "metadata": {},
   "outputs": [
    {
     "name": "stdout",
     "output_type": "stream",
     "text": [
      "Armed. A new waveform will play on each rising TTL pulse at PFI1.\n"
     ]
    }
   ],
   "source": [
    "import nifgen\n",
    "import numpy as np\n",
    "import time\n",
    "\n",
    "# Settings\n",
    "resource_name = \"Dev1\"\n",
    "sample_rate = 30_000_000 \n",
    "waveform_freq = 7911.24    \n",
    "duration = 1 / waveform_freq\n",
    "num_samples = int(sample_rate * duration)\n",
    "\n",
    "# Timing\n",
    "t = np.linspace(0, duration, 300, endpoint=False)\n",
    "\n",
    "# Step 1: Base square wave\n",
    "square_wave = np.sign(np.sin(2 * np.pi * waveform_freq * t))\n",
    "\n",
    "# Step 2: Identify high portion (the +1 region)\n",
    "high_indices = np.where(square_wave > 0)[0]\n",
    "\n",
    "# Step 3: Create high-frequency pulses (e.g., 1 MHz) to insert into the high part\n",
    "pulse_freq = 1_000_000  # 1 MHz\n",
    "pulse_wave = 0.5 * np.sign(np.cos(2 * np.pi * pulse_freq * t[high_indices]))\n",
    "\n",
    "# Step 4: Replace high part of square wave with high-freq pulses\n",
    "waveform = square_wave.copy()\n",
    "waveform[high_indices] = pulse_wave\n",
    "\n",
    "# Optional: scale from -1/1 to 0/1 if needed\n",
    "# waveform = (waveform + 1) / 2\n",
    "\n",
    "waveform = waveform.tolist()\n",
    "\n",
    "# Initialize session\n",
    "with nifgen.Session(resource_name) as session:\n",
    "    # Set to ARB mode\n",
    "    session.output_mode = nifgen.OutputMode.ARB\n",
    "    session.arb_sample_rate = sample_rate\n",
    "\n",
    "    # Write waveform to device memory\n",
    "    wf_handle = session.create_waveform(waveform)\n",
    "\n",
    "    # Configure trigger\n",
    "    session.start_trigger_type = nifgen.StartTriggerType.DIGITAL_EDGE\n",
    "    session.digital_edge_start_trigger_edge = nifgen.StartTriggerDigitalEdgeEdge.RISING\n",
    "    session.trigger_mode = nifgen.TriggerMode.STEPPED\n",
    "    session.digital_edge_start_trigger_source = \"/Dev1/PFI1\"\n",
    "\n",
    "\n",
    "    session.configure_arb_waveform(wf_handle, gain=1.0, offset=0.0)\n",
    "\n",
    "    session.initiate()\n",
    "\n",
    "    print(\"Armed. A new waveform will play on each rising TTL pulse at PFI1.\")\n",
    "    time.sleep(5)  # Keep session alive for 10 seconds"
   ]
  },
  {
   "cell_type": "code",
   "execution_count": 98,
   "id": "85525e60",
   "metadata": {},
   "outputs": [],
   "source": [
    "waveform_path = r\"C:\\Users\\max\\Desktop\\NanoStride\\waveform_output.bin\""
   ]
  },
  {
   "cell_type": "code",
   "execution_count": null,
   "id": "fde83373",
   "metadata": {},
   "outputs": [],
   "source": [
    "# TTL is too slow for us to work with for every line\n",
    "# Lets first do it by just the first trigger\n",
    "\n"
   ]
  }
 ],
 "metadata": {
  "kernelspec": {
   "display_name": "venv",
   "language": "python",
   "name": "python3"
  },
  "language_info": {
   "codemirror_mode": {
    "name": "ipython",
    "version": 3
   },
   "file_extension": ".py",
   "mimetype": "text/x-python",
   "name": "python",
   "nbconvert_exporter": "python",
   "pygments_lexer": "ipython3",
   "version": "3.13.5"
  }
 },
 "nbformat": 4,
 "nbformat_minor": 5
}
