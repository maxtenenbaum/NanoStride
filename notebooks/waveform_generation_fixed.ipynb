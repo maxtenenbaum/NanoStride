{
 "cells": [
  {
   "cell_type": "markdown",
   "id": "3ee36f0f",
   "metadata": {},
   "source": [
    "We need to fix the waveform generation so that it isn't just 1 or 0 for a pixel. We need the waveform to be set up for temporal accuracy"
   ]
  },
  {
   "cell_type": "code",
   "execution_count": 3,
   "id": "38fdd02d",
   "metadata": {},
   "outputs": [],
   "source": [
    "from PIL import Image\n",
    "import os\n",
    "import numpy as np"
   ]
  },
  {
   "cell_type": "code",
   "execution_count": 42,
   "id": "ac10648e",
   "metadata": {},
   "outputs": [
    {
     "data": {
      "text/plain": [
       "array([0., 0., 0., ..., 0., 0., 0.], shape=(100000000,))"
      ]
     },
     "execution_count": 42,
     "metadata": {},
     "output_type": "execute_result"
    }
   ],
   "source": [
    "# For each pixel we need 100 points, not 1. If it is a 1, we append 50 1's and 50 0's. For 0, 100 0's.\n",
    "n = 100\n",
    "black = np.zeros(n)\n",
    "white = np.zeros(n)\n",
    "white[: n // 2] = 1\n",
    "\n",
    "# Rewriting function to add white or black for each pixel\n",
    "def create_correct_waveform(image_path, serpentine = True):\n",
    "    waveforms = []\n",
    "    img = Image.open(image_path)\n",
    "    binary = (np.array(img) > 128).astype(np.uint8)\n",
    "    # appends each row to the list\n",
    "    for row_index in range(binary.shape[0]):\n",
    "        row = binary[row_index]\n",
    "        for column in row:\n",
    "            if column == 0:\n",
    "                waveforms.append(black)\n",
    "            else:\n",
    "                waveforms.append(white)\n",
    "    return np.concatenate(waveforms)\n",
    "correct_waveform = create_correct_waveform(image_path)\n",
    "correct_waveform"
   ]
  },
  {
   "cell_type": "code",
   "execution_count": null,
   "id": "2a1f0080",
   "metadata": {},
   "outputs": [],
   "source": [
    "def create_bidirectional_waveforms(image_dir, serpentine=True):\n",
    "    waveforms = []\n",
    "\n",
    "    image_files = sorted([\n",
    "        f for f in os.listdir(image_dir)\n",
    "        if f.endswith(\".png\")\n",
    "    ])\n",
    "\n",
    "    for i, filename in enumerate(image_files):\n",
    "        path = os.path.join(image_dir, filename)\n",
    "        img = Image.open(path).convert(\"L\")\n",
    "        binary = (np.array(img) > 128).astype(np.uint8)\n",
    "        for row_index in range(binary.shape[0]):\n",
    "            row = binary[row_index]\n",
    "            for column in row:\n",
    "                if column == 0:\n",
    "                    waveforms.append(black)\n",
    "                else:\n",
    "                    waveforms.append(white)\n",
    "        return np.concatenate(waveforms)"
   ]
  },
  {
   "cell_type": "code",
   "execution_count": null,
   "id": "57b5f622",
   "metadata": {},
   "outputs": [],
   "source": [
    "# Need to save as a binary waveform now\n",
    "waveform_normalized = correct_waveform.astype(np.float64) * 2 -1\n",
    "waveform_normalized.astype('<f8').tofile(f\"correct_waveform.bin\")"
   ]
  },
  {
   "cell_type": "markdown",
   "id": "74c152df",
   "metadata": {},
   "source": [
    "Now each pixel has the correct timing. However, it isn't synchronized for the scanning. We need to have it synchronized to the mirror scanner.\n",
    "\n",
    "This means that each row needs a gap."
   ]
  },
  {
   "cell_type": "code",
   "execution_count": 45,
   "id": "3684ac46",
   "metadata": {},
   "outputs": [],
   "source": [
    "import nifgen\n",
    "import time\n",
    "\n",
    "with nifgen.Session(\"Dev1\") as session:\n",
    "    session.output_mode = nifgen.OutputMode.ARB\n",
    "    session.arb_sample_rate = 100_000_000\n",
    "    wf_handle = session.create_waveform(waveform_normalized)\n",
    "    session.start_trigger_type = nifgen.StartTriggerType.DIGITAL_EDGE\n",
    "    session.digital_edge_start_trigger_edge = nifgen.StartTriggerDigitalEdgeEdge.RISING\n",
    "    session.trigger_mode = nifgen.TriggerMode.CONTINUOUS\n",
    "    session.digital_edge_start_trigger_source = \"/Dev1/PFI1\"\n",
    "    session.configure_arb_waveform(wf_handle, gain=1, offset=0)\n",
    "    session.initiate()\n",
    "    time.sleep(5)"
   ]
  },
  {
   "cell_type": "code",
   "execution_count": null,
   "id": "dcc3f068",
   "metadata": {},
   "outputs": [],
   "source": []
  }
 ],
 "metadata": {
  "kernelspec": {
   "display_name": "venv",
   "language": "python",
   "name": "python3"
  },
  "language_info": {
   "codemirror_mode": {
    "name": "ipython",
    "version": 3
   },
   "file_extension": ".py",
   "mimetype": "text/x-python",
   "name": "python",
   "nbconvert_exporter": "python",
   "pygments_lexer": "ipython3",
   "version": "3.13.5"
  }
 },
 "nbformat": 4,
 "nbformat_minor": 5
}
