{
 "cells": [
  {
   "cell_type": "code",
   "execution_count": 1,
   "id": "106bb91c",
   "metadata": {},
   "outputs": [],
   "source": [
    "import SPiiPlusPython as sp "
   ]
  },
  {
   "cell_type": "code",
   "execution_count": 39,
   "id": "c7e8d52f",
   "metadata": {},
   "outputs": [],
   "source": [
    "# Open serial connection\n",
    "hc = sp.OpenCommSerial(1, 115200)"
   ]
  },
  {
   "cell_type": "code",
   "execution_count": 148,
   "id": "35188a30",
   "metadata": {},
   "outputs": [],
   "source": [
    "# Running buffer 1 at the startup level for homing\n",
    "sp.RunBuffer(hc, 1, \"STARTUP\", sp.SYNCHRONOUS, True)"
   ]
  },
  {
   "cell_type": "code",
   "execution_count": 48,
   "id": "6efd0488",
   "metadata": {},
   "outputs": [],
   "source": [
    "# Enable X-axis\n",
    "sp.Enable(hc, 0, sp.SYNCHRONOUS, True)\n",
    "# Enable Y-axis\n",
    "sp.Enable(hc, 1, sp.SYNCHRONOUS, True)"
   ]
  },
  {
   "cell_type": "code",
   "execution_count": null,
   "id": "6948140d",
   "metadata": {},
   "outputs": [],
   "source": [
    "# Moving axis to a point at a set velocity\n",
    "sp.ExtToPoint(\n",
    "    hc,\n",
    "    sp.MotionFlags.ACSC_AMF_VELOCITY,\n",
    "    sp.Axis.ACSC_AXIS_0,\n",
    "    # millimeters\n",
    "    0,\n",
    "    # millimeters per second\n",
    "    velocity=15,\n",
    "    wait=sp.SYNCHRONOUS,\n",
    "    failure_check=True\n",
    ")"
   ]
  },
  {
   "cell_type": "code",
   "execution_count": 106,
   "id": "6eedc61b",
   "metadata": {},
   "outputs": [],
   "source": [
    "# Moving multiple axes to a single point at specified velocity\n",
    "sp.ExtToPointM(\n",
    "    hc,\n",
    "    sp.MotionFlags.ACSC_AMF_VELOCITY | sp.MotionFlags.ACSC_AMF_ENDVELOCITY,\n",
    "    # Need the -1 at the end to mark the end of the axis array\n",
    "    [0,1,-1],\n",
    "    # X, Y points\n",
    "    point=[-10,-10],\n",
    "    velocity=50,\n",
    "    endVelocity= 0,\n",
    "    failure_check=True\n",
    ")"
   ]
  },
  {
   "cell_type": "code",
   "execution_count": null,
   "id": "f967d0c4",
   "metadata": {},
   "outputs": [],
   "source": [
    "# Single axis job with specified velocity (Could set up with timing or external trigger?)\n",
    "sp.Jog(\n",
    "    hc, \n",
    "    sp.MotionFlags.ACSC_AMF_VELOCITY, \n",
    "    sp.Axis.ACSC_AXIS_1,\n",
    "    # Direction and velocity (Positive or negative value)\n",
    "    10,\n",
    "    failure_check=True\n",
    "    )"
   ]
  },
  {
   "cell_type": "code",
   "execution_count": null,
   "id": "c68cc2ac",
   "metadata": {},
   "outputs": [],
   "source": [
    "# Single axis, multiple points\n",
    "\n",
    "sp.MultiPoint(\n",
    "    hc,\n",
    "    sp.MotionFlags.ACSC_AMF_VELOCITY,\n",
    "    sp.Axis.ACSC_AXIS_1,\n",
    "    1,\n",
    "    failure_check=True,\n",
    ")\n",
    "\n",
    "# ExtAddPoint allows you to specify the values for the flags in the method, in this case, velocity\n",
    "sp.ExtAddPoint(hc, sp.Axis.ACSC_AXIS_1, 10, 25)\n",
    "sp.ExtAddPoint(hc, sp.Axis.ACSC_AXIS_1, -10, 15)\n",
    "sp.ExtAddPoint(hc, sp.Axis.ACSC_AXIS_1, 15, 15)\n",
    "sp.ExtAddPoint(hc, sp.Axis.ACSC_AXIS_1, 0, 15)\n",
    "\n",
    "\n",
    "sp.EndSequence(hc, sp.Axis.ACSC_AXIS_1)\n"
   ]
  },
  {
   "cell_type": "code",
   "execution_count": 175,
   "id": "4274aaa4",
   "metadata": {},
   "outputs": [],
   "source": [
    "# Multi-axis, multiple points (Drawing a square)\n",
    "axes = [0,1,-1]\n",
    "sp.MultiPointM(\n",
    "    hc,\n",
    "    sp.MotionFlags.ACSC_AMF_VELOCITY,\n",
    "    axes,\n",
    "    1,\n",
    "    failure_check=True\n",
    ")\n",
    "\n",
    "sp.ExtAddPointM(hc, axes, (0,0), 25)\n",
    "for i in range(10):\n",
    "    sp.ExtAddPointM(hc, axes, (-10,10), 25)\n",
    "    sp.ExtAddPointM(hc, axes, (10,10), 25)\n",
    "    sp.ExtAddPointM(hc, axes, (10,-10), 25)\n",
    "    sp.ExtAddPointM(hc, axes, (-10,-10), 25)\n",
    "sp.ExtAddPointM(hc, axes, (0,0), 25)\n",
    "sp.EndSequenceM(hc, axes) # end of multipoint motion\n",
    "\n",
    "\n",
    "\n"
   ]
  },
  {
   "cell_type": "code",
   "execution_count": 171,
   "id": "1af8ce16",
   "metadata": {},
   "outputs": [],
   "source": [
    "sp.KillAll(hc)"
   ]
  },
  {
   "cell_type": "code",
   "execution_count": 22,
   "id": "dd1dc75e",
   "metadata": {},
   "outputs": [],
   "source": [
    "# Disable all\n",
    "sp.DisableAll(hc, sp.SYNCHRONOUS, True)"
   ]
  },
  {
   "cell_type": "code",
   "execution_count": 38,
   "id": "2af06abb",
   "metadata": {},
   "outputs": [],
   "source": [
    "# Close connection\n",
    "sp.CloseComm(hc)"
   ]
  },
  {
   "cell_type": "code",
   "execution_count": null,
   "id": "84a1abab",
   "metadata": {},
   "outputs": [],
   "source": []
  }
 ],
 "metadata": {
  "kernelspec": {
   "display_name": "venv",
   "language": "python",
   "name": "python3"
  },
  "language_info": {
   "codemirror_mode": {
    "name": "ipython",
    "version": 3
   },
   "file_extension": ".py",
   "mimetype": "text/x-python",
   "name": "python",
   "nbconvert_exporter": "python",
   "pygments_lexer": "ipython3",
   "version": "3.13.5"
  }
 },
 "nbformat": 4,
 "nbformat_minor": 5
}
